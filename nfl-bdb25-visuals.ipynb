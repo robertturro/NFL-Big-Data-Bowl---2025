{
 "cells": [
  {
   "cell_type": "code",
   "execution_count": 1,
   "id": "bf24a43a",
   "metadata": {
    "_cell_guid": "b1076dfc-b9ad-4769-8c92-a6c4dae69d19",
    "_uuid": "8f2839f25d086af736a60e9eeb907d3b93b6e0e5",
    "execution": {
     "iopub.execute_input": "2025-01-03T18:51:08.716848Z",
     "iopub.status.busy": "2025-01-03T18:51:08.716492Z",
     "iopub.status.idle": "2025-01-03T18:51:11.059306Z",
     "shell.execute_reply": "2025-01-03T18:51:11.058133Z"
    },
    "papermill": {
     "duration": 2.35435,
     "end_time": "2025-01-03T18:51:11.061647",
     "exception": false,
     "start_time": "2025-01-03T18:51:08.707297",
     "status": "completed"
    },
    "tags": []
   },
   "outputs": [],
   "source": [
    "import plotly.graph_objects as go\n",
    "import os\n",
    "import pandas as pd\n",
    "import numpy as np\n",
    "import matplotlib.pyplot as plt\n",
    "import seaborn as sns\n",
    "project_dir = '/kaggle/input/nfl-big-data-bowl-2025'\n",
    "\n",
    "import warnings\n",
    "warnings.filterwarnings(\"ignore\")"
   ]
  },
  {
   "cell_type": "markdown",
   "id": "e2ff9f4e",
   "metadata": {
    "papermill": {
     "duration": 0.006946,
     "end_time": "2025-01-03T18:51:11.076646",
     "exception": false,
     "start_time": "2025-01-03T18:51:11.069700",
     "status": "completed"
    },
    "tags": []
   },
   "source": [
    "# Helper Functions"
   ]
  },
  {
   "cell_type": "markdown",
   "id": "2459d210",
   "metadata": {
    "papermill": {
     "duration": 0.006659,
     "end_time": "2025-01-03T18:51:11.090411",
     "exception": false,
     "start_time": "2025-01-03T18:51:11.083752",
     "status": "completed"
    },
    "tags": []
   },
   "source": [
    "The code in the cell below that is used to create the \"animate_play\" function is taken from [Nick Wan's](https://www.kaggle.com/nickwan) great notebook which can be found [here](https://www.kaggle.com/code/nickwan/animate-plays-with-plotly-real-no-lies-here)."
   ]
  },
  {
   "cell_type": "code",
   "execution_count": 2,
   "id": "fa4e746b",
   "metadata": {
    "execution": {
     "iopub.execute_input": "2025-01-03T18:51:11.106615Z",
     "iopub.status.busy": "2025-01-03T18:51:11.106035Z",
     "iopub.status.idle": "2025-01-03T18:51:11.140937Z",
     "shell.execute_reply": "2025-01-03T18:51:11.139752Z"
    },
    "papermill": {
     "duration": 0.045245,
     "end_time": "2025-01-03T18:51:11.142740",
     "exception": false,
     "start_time": "2025-01-03T18:51:11.097495",
     "status": "completed"
    },
    "tags": []
   },
   "outputs": [],
   "source": [
    "colors = {\n",
    "    'ARI':[\"#97233F\",\"#000000\",\"#FFB612\"],\n",
    "    'ATL':[\"#A71930\",\"#000000\",\"#A5ACAF\"],\n",
    "    'BAL':[\"#241773\",\"#000000\"],\n",
    "    'BUF':[\"#00338D\",\"#C60C30\"],\n",
    "    'CAR':[\"#0085CA\",\"#101820\",\"#BFC0BF\"],\n",
    "    'CHI':[\"#0B162A\",\"#C83803\"],\n",
    "    'CIN':[\"#FB4F14\",\"#000000\"],\n",
    "    'CLE':[\"#311D00\",\"#FF3C00\"],\n",
    "    'DAL':[\"#003594\",\"#041E42\",\"#869397\"],\n",
    "    'DEN':[\"#FB4F14\",\"#002244\"],\n",
    "    'DET':[\"#0076B6\",\"#B0B7BC\",\"#000000\"],\n",
    "    'GB' :[\"#203731\",\"#FFB612\"],\n",
    "    'HOU':[\"#03202F\",\"#A71930\"],\n",
    "    'IND':[\"#002C5F\",\"#A2AAAD\"],\n",
    "    'JAX':[\"#101820\",\"#D7A22A\",\"#9F792C\"],\n",
    "    'KC' :[\"#E31837\",\"#FFB81C\"],\n",
    "    'LA' :[\"#003594\",\"#FFA300\",\"#FF8200\"],\n",
    "    'LAC':[\"#0080C6\",\"#FFC20E\",\"#FFFFFF\"],\n",
    "    'LV' :[\"#000000\",\"#A5ACAF\"],\n",
    "    'MIA':[\"#008E97\",\"#FC4C02\",\"#005778\"],\n",
    "    'MIN':[\"#4F2683\",\"#FFC62F\"],\n",
    "    'NE' :[\"#002244\",\"#C60C30\",\"#B0B7BC\"],\n",
    "    'NO' :[\"#101820\",\"#D3BC8D\"],\n",
    "    'NYG':[\"#0B2265\",\"#A71930\",\"#A5ACAF\"],\n",
    "    'NYJ':[\"#125740\",\"#000000\",\"#FFFFFF\"],\n",
    "    'PHI':[\"#004C54\",\"#A5ACAF\",\"#ACC0C6\"],\n",
    "    'PIT':[\"#FFB612\",\"#101820\"],\n",
    "    'SEA':[\"#002244\",\"#69BE28\",\"#A5ACAF\"],\n",
    "    'SF' :[\"#AA0000\",\"#B3995D\"],\n",
    "    'TB' :[\"#D50A0A\",\"#FF7900\",\"#0A0A08\"],\n",
    "    'TEN':[\"#0C2340\",\"#4B92DB\",\"#C8102E\"],\n",
    "    'WAS':[\"#5A1414\",\"#FFB612\"],\n",
    "    'football':[\"#CBB67C\",\"#663831\"]\n",
    "}\n",
    "\n",
    "def preprocess_data(tracking_data, players_data):\n",
    "    tracking_df = pd.merge(df,players,how=\"left\",on = [\"nflId\",'displayName'])\n",
    "    return tracking_df\n",
    "\n",
    "def hex_to_rgb_array(hex_color):\n",
    "    return np.array(tuple(int(hex_color.lstrip('#')[i:i+2], 16) for i in (0, 2, 4)))\n",
    "\n",
    "def ColorDistance(hex1,hex2):\n",
    "    if hex1 == hex2:\n",
    "        return 0\n",
    "    rgb1 = hex_to_rgb_array(hex1)\n",
    "    rgb2 = hex_to_rgb_array(hex2)\n",
    "    rm = 0.5*(rgb1[0]+rgb2[0])\n",
    "    d = abs(sum((2+rm,4,3-rm)*(rgb1-rgb2)**2))**0.5\n",
    "    return d\n",
    "\n",
    "def ColorPairs(team1,team2):\n",
    "    color_array_1 = colors[team1]\n",
    "    color_array_2 = colors[team2]\n",
    "    # If color distance is small enough then flip color order\n",
    "    if ColorDistance(color_array_1[0],color_array_2[0])<500:\n",
    "        return {\n",
    "          team1:[color_array_1[0],color_array_1[1]],\n",
    "          team2:[color_array_2[1],color_array_2[0]],\n",
    "          'football':colors['football']\n",
    "        }\n",
    "    else:\n",
    "        return {\n",
    "          team1:[color_array_1[0],color_array_1[1]],\n",
    "          team2:[color_array_2[0],color_array_2[1]],\n",
    "          'football':colors['football']}\n",
    "\n",
    "\n",
    "def animate_play(games,tracking_df,play_df,players,gameId,playId):\n",
    "    selected_game_df = games.loc[games['gameId']==gameId].copy()\n",
    "    selected_play_df = play_df.loc[(play_df['playId']==playId) & (play_df['gameId']==gameId)].copy()\n",
    "\n",
    "    tracking_players_df = tracking_df.copy()\n",
    "    selected_tracking_df = tracking_players_df.loc[(tracking_players_df['playId']==playId)&(tracking_players_df['gameId']==gameId)].copy()\n",
    "\n",
    "    sorted_frame_list = selected_tracking_df.frameId.unique()\n",
    "    sorted_frame_list.sort()\n",
    "\n",
    "    team_combos = list(set(selected_tracking_df['club'].unique())-set(['football']))\n",
    "    color_orders = ColorPairs(team_combos[0],team_combos[1])\n",
    "\n",
    "    line_of_scrimmage = selected_play_df['absoluteYardlineNumber'].values[0]\n",
    "\n",
    "    if selected_tracking_df['playDirection'].values[0] == 'right':\n",
    "        first_down_marker = line_of_scrimmage + selected_play_df['yardsToGo'].values[0]\n",
    "    else:\n",
    "        first_down_marker = line_of_scrimmage - selected_play_df['yardsToGo'].values[0]\n",
    "    down = selected_play_df['down'].values[0]\n",
    "    quarter = selected_play_df['quarter'].values[0]\n",
    "    gameClock = selected_play_df['gameClock'].values[0]\n",
    "    playDescription = selected_play_df['playDescription'].values[0]\n",
    "\n",
    "    if len(playDescription.split(\" \"))>15 and len(playDescription)>115:\n",
    "        playDescription = \" \".join(playDescription.split(\" \")[0:16]) + \"<br>\" + \" \".join(playDescription.split(\" \")[16:])\n",
    "\n",
    "    updatemenus_dict = [\n",
    "      {\n",
    "          \"buttons\": [\n",
    "              {\n",
    "                  \"args\": [None, {\"frame\": {\"duration\": 100, \"redraw\": False},\n",
    "                              \"fromcurrent\": True, \"transition\": {\"duration\": 0}}],\n",
    "                  \"label\": \"Play\",\n",
    "                  \"method\": \"animate\"\n",
    "              },\n",
    "              {\n",
    "                  \"args\": [[None], {\"frame\": {\"duration\": 0, \"redraw\": False},\n",
    "                                    \"mode\": \"immediate\",\n",
    "                                    \"transition\": {\"duration\": 0}}],\n",
    "                  \"label\": \"Pause\",\n",
    "                  \"method\": \"animate\"\n",
    "              }\n",
    "          ],\n",
    "          \"direction\": \"left\",\n",
    "          \"pad\": {\"r\": 10, \"t\": 87},\n",
    "          \"showactive\": False,\n",
    "          \"type\": \"buttons\",\n",
    "          \"x\": 0.1,\n",
    "          \"xanchor\": \"right\",\n",
    "          \"y\": 0,\n",
    "          \"yanchor\": \"top\"\n",
    "      }\n",
    "    ]\n",
    "\n",
    "    sliders_dict = {\n",
    "      \"active\": 0,\n",
    "      \"yanchor\": \"top\",\n",
    "      \"xanchor\": \"left\",\n",
    "      \"currentvalue\": {\n",
    "          \"font\": {\"size\": 20},\n",
    "          \"prefix\": \"Frame:\",\n",
    "          \"visible\": True,\n",
    "          \"xanchor\": \"right\"\n",
    "      },\n",
    "      \"transition\": {\"duration\": 300, \"easing\": \"cubic-in-out\"},\n",
    "      \"pad\": {\"b\": 10, \"t\": 50},\n",
    "      \"len\": 0.9,\n",
    "      \"x\": 0.1,\n",
    "      \"y\": 0,\n",
    "      \"steps\": []\n",
    "    }\n",
    "\n",
    "    frames = []\n",
    "    for frameId in sorted_frame_list:\n",
    "        data = []\n",
    "        data.append(\n",
    "          go.Scatter(\n",
    "              x=np.arange(20,110,10),\n",
    "              y=[5]*len(np.arange(20,110,10)),\n",
    "              mode='text',\n",
    "              text=list(map(str,list(np.arange(20, 61, 10)-10)+list(np.arange(40, 9, -10)))),\n",
    "              textfont_size = 30,\n",
    "              textfont_family = \"Courier New, monospace\",\n",
    "              textfont_color = \"#ffffff\",\n",
    "              showlegend=False,\n",
    "              hoverinfo='none'\n",
    "          )\n",
    "        )\n",
    "        data.append(\n",
    "          go.Scatter(\n",
    "              x=np.arange(20,110,10),\n",
    "              y=[53.5-5]*len(np.arange(20,110,10)),\n",
    "              mode='text',\n",
    "              text=list(map(str,list(np.arange(20, 61, 10)-10)+list(np.arange(40, 9, -10)))),\n",
    "              textfont_size = 30,\n",
    "              textfont_family = \"Courier New, monospace\",\n",
    "              textfont_color = \"#ffffff\",\n",
    "              showlegend=False,\n",
    "              hoverinfo='none'\n",
    "          )\n",
    "        )\n",
    "        data.append(\n",
    "          go.Scatter(\n",
    "              x=[line_of_scrimmage,line_of_scrimmage],\n",
    "              y=[0,53.5],\n",
    "              line_dash='dash',\n",
    "              line_color='blue',\n",
    "              showlegend=False,\n",
    "              hoverinfo='none'\n",
    "          )\n",
    "        )\n",
    "        data.append(\n",
    "          go.Scatter(\n",
    "              x=[first_down_marker,first_down_marker],\n",
    "              y=[0,53.5],\n",
    "              line_dash='dash',\n",
    "              line_color='yellow',\n",
    "              showlegend=False,\n",
    "              hoverinfo='none'\n",
    "          )\n",
    "        )\n",
    "        endzoneColors = {0:color_orders[selected_game_df['homeTeamAbbr'].values[0]][0],\n",
    "                        110:color_orders[selected_game_df['visitorTeamAbbr'].values[0]][0]}\n",
    "        for x_min in [0,110]:\n",
    "            data.append(\n",
    "              go.Scatter(\n",
    "                  x=[x_min,x_min,x_min+10,x_min+10,x_min],\n",
    "                  y=[0,53.5,53.5,0,0],\n",
    "                  fill=\"toself\",\n",
    "                  fillcolor=endzoneColors[x_min],\n",
    "                  mode=\"lines\",\n",
    "                  line=dict(\n",
    "                      color=\"white\",\n",
    "                      width=3\n",
    "                      ),\n",
    "                  opacity=1,\n",
    "                  showlegend= False,\n",
    "                  hoverinfo =\"skip\"\n",
    "              )\n",
    "            )\n",
    "\n",
    "        for team in selected_tracking_df['club'].unique():\n",
    "            plot_df = selected_tracking_df.loc[(selected_tracking_df['club']==team) & (selected_tracking_df['frameId']==frameId)].copy()\n",
    "\n",
    "            if team != 'football':\n",
    "                hover_text_array=[]\n",
    "\n",
    "                for nflId in plot_df['nflId'].unique():\n",
    "                    selected_player_df = plot_df.loc[plot_df['nflId']==nflId]\n",
    "                    nflId = int(selected_player_df['nflId'].values[0])\n",
    "                    displayName = selected_player_df['displayName'].values[0]\n",
    "                    s = round(selected_player_df['s'].values[0] * 2.23693629205, 3)\n",
    "                    text_to_append = f\"nflId:{nflId}<br>displayName:{displayName}<br>Player Speed:{s} MPH\"\n",
    "                    hover_text_array.append(text_to_append)\n",
    "\n",
    "                data.append(go.Scatter(x=plot_df['x'], y=plot_df['y'],\n",
    "                                      mode = 'markers',\n",
    "                                      marker=go.scatter.Marker(color=color_orders[team][0],\n",
    "                                                              line=go.scatter.marker.Line(width=5,\n",
    "                                                                                          color=color_orders[team][1]),\n",
    "                                                              size=10),\n",
    "                                      name=team,hovertext=hover_text_array,hoverinfo='text'))\n",
    "            else:\n",
    "                data.append(go.Scatter(x=plot_df['x'], y=plot_df['y'],\n",
    "                                      mode = 'markers',\n",
    "                                      marker=go.scatter.Marker(\n",
    "                                        color=color_orders[team][0],\n",
    "                                        line=go.scatter.marker.Line(width=2,\n",
    "                                                                    color=color_orders[team][1]),\n",
    "                                        size=10),\n",
    "                                      name=team,hoverinfo='none'))\n",
    "        slider_step = {'args': [\n",
    "          [frameId],\n",
    "          {'frame': {'duration': 100, 'redraw': False},\n",
    "            'mode': 'immediate',\n",
    "            'transition': {'duration': 0}}\n",
    "        ],\n",
    "          'label': str(frameId),\n",
    "          'method': 'animate'}\n",
    "        sliders_dict['steps'].append(slider_step)\n",
    "        frames.append(go.Frame(data=data, name=str(frameId)))\n",
    "\n",
    "    scale=10\n",
    "    layout = go.Layout(\n",
    "        autosize=False,\n",
    "        width=120*scale,\n",
    "        height=60*scale,\n",
    "        xaxis=dict(range=[0, 120], autorange=False, tickmode='array',tickvals=np.arange(10, 111, 5).tolist(),showticklabels=False),\n",
    "        yaxis=dict(range=[0, 53.3], autorange=False,showgrid=False,showticklabels=False),\n",
    "\n",
    "        plot_bgcolor='#00B140',\n",
    "        title=f\"GameId: {gameId}, PlayId: {playId}<br>{gameClock} {quarter}Q\"+\"<br>\"*19+f\"{playDescription}\",\n",
    "        updatemenus=updatemenus_dict,\n",
    "        sliders = [sliders_dict]\n",
    "    )\n",
    "\n",
    "    fig = go.Figure(\n",
    "        data=frames[0]['data'],\n",
    "        layout= layout,\n",
    "        frames=frames[1:]\n",
    "    )\n",
    "    \n",
    "    for x_min in [0,110]:\n",
    "        if x_min == 0:\n",
    "            angle = 270\n",
    "            teamName=selected_game_df['homeTeamAbbr'].values[0]\n",
    "        else:\n",
    "            angle = 90\n",
    "            teamName=selected_game_df['visitorTeamAbbr'].values[0]\n",
    "        fig.add_annotation(\n",
    "          x=x_min+5,\n",
    "          y=53.5/2,\n",
    "          text=teamName,\n",
    "          showarrow=False,\n",
    "          font=dict(\n",
    "              family=\"Courier New, monospace\",\n",
    "              size=32,\n",
    "              color=\"White\"\n",
    "              ),\n",
    "          textangle = angle\n",
    "        )\n",
    "    return fig"
   ]
  },
  {
   "cell_type": "code",
   "execution_count": 3,
   "id": "17706730",
   "metadata": {
    "execution": {
     "iopub.execute_input": "2025-01-03T18:51:11.158501Z",
     "iopub.status.busy": "2025-01-03T18:51:11.158130Z",
     "iopub.status.idle": "2025-01-03T18:51:13.023256Z",
     "shell.execute_reply": "2025-01-03T18:51:13.021893Z"
    },
    "papermill": {
     "duration": 1.875517,
     "end_time": "2025-01-03T18:51:13.025690",
     "exception": false,
     "start_time": "2025-01-03T18:51:11.150173",
     "status": "completed"
    },
    "tags": []
   },
   "outputs": [],
   "source": [
    "player_play = pd.read_csv(\"/kaggle/input/nfl-big-data-bowl-2025/player_play.csv\")"
   ]
  },
  {
   "cell_type": "code",
   "execution_count": 4,
   "id": "583b8f96",
   "metadata": {
    "execution": {
     "iopub.execute_input": "2025-01-03T18:51:13.041659Z",
     "iopub.status.busy": "2025-01-03T18:51:13.041244Z",
     "iopub.status.idle": "2025-01-03T18:51:15.169465Z",
     "shell.execute_reply": "2025-01-03T18:51:15.168384Z"
    },
    "papermill": {
     "duration": 2.138323,
     "end_time": "2025-01-03T18:51:15.171466",
     "exception": false,
     "start_time": "2025-01-03T18:51:13.033143",
     "status": "completed"
    },
    "tags": []
   },
   "outputs": [],
   "source": [
    "tmp = player_play[['gameId', 'playId','passDefensed','routeRan']].groupby(['gameId', 'playId'])[['passDefensed','routeRan']].agg(lambda x: list(x)).reset_index()\n",
    "\n",
    "go_route, hitch, flat, out, cross, IN, post, slant, corner, screen, angle, wheel, none = [],[],[],[],[],[],[],[],[],[],[],[],[]\n",
    "pass_defensed = []\n",
    "\n",
    "for i in range(len(tmp)):\n",
    "    if \"GO\" in tmp['routeRan'][i]:\n",
    "        go_route.append(1)\n",
    "    else:\n",
    "        go_route.append(0)\n",
    "        \n",
    "    if \"HITCH\" in tmp['routeRan'][i]:\n",
    "        hitch.append(1)\n",
    "    else:\n",
    "        hitch.append(0)\n",
    "\n",
    "    if \"FLAT\" in tmp['routeRan'][i]:\n",
    "        flat.append(1)\n",
    "    else:\n",
    "        flat.append(0)\n",
    "\n",
    "    if \"OUT\" in tmp['routeRan'][i]:\n",
    "        out.append(1)\n",
    "    else:\n",
    "        out.append(0)\n",
    "\n",
    "    if \"CROSS\" in tmp['routeRan'][i]:\n",
    "        cross.append(1)\n",
    "    else:\n",
    "        cross.append(0)\n",
    "\n",
    "    if \"IN\" in tmp['routeRan'][i]:\n",
    "        IN.append(1)\n",
    "    else:\n",
    "        IN.append(0)\n",
    "\n",
    "    if \"POST\" in tmp['routeRan'][i]:\n",
    "        post.append(1)\n",
    "    else:\n",
    "        post.append(0)\n",
    "\n",
    "    if \"SLANT\" in tmp['routeRan'][i]:\n",
    "        slant.append(1)\n",
    "    else:\n",
    "        slant.append(0)\n",
    "\n",
    "    if \"CORNER\" in tmp['routeRan'][i]:\n",
    "        corner.append(1)\n",
    "    else:\n",
    "        corner.append(0)\n",
    "\n",
    "    if \"SCREEN\" in tmp['routeRan'][i]:\n",
    "        screen.append(1)\n",
    "    else:\n",
    "        screen.append(0)\n",
    "\n",
    "    if \"ANGLE\" in tmp['routeRan'][i]:\n",
    "        angle.append(1)\n",
    "    else:\n",
    "        angle.append(0)\n",
    "\n",
    "    if \"WHEEL\" in tmp['routeRan'][i]:\n",
    "        wheel.append(1)\n",
    "    else:\n",
    "        wheel.append(0)\n",
    "\n",
    "    if 1 in tmp['passDefensed'][i]:\n",
    "        pass_defensed.append(1)\n",
    "    else:\n",
    "        pass_defensed.append(0)\n",
    "\n",
    "\n",
    "tmp['GO'] = go_route\n",
    "tmp['HITCH'] = hitch\n",
    "tmp['FLAT'] = flat\n",
    "tmp['OUT'] = out\n",
    "tmp['CROSS'] = cross\n",
    "tmp['IN'] = IN\n",
    "tmp['POST'] = post \n",
    "tmp['SLANT'] = slant \n",
    "tmp['CORNER'] = corner\n",
    "tmp['SCREEN'] = screen\n",
    "tmp['ANGLE'] = angle\n",
    "tmp['WHEEL'] = wheel\n",
    "tmp['pass_defensed'] = pass_defensed "
   ]
  },
  {
   "cell_type": "code",
   "execution_count": 5,
   "id": "e2383c4d",
   "metadata": {
    "execution": {
     "iopub.execute_input": "2025-01-03T18:51:15.187356Z",
     "iopub.status.busy": "2025-01-03T18:51:15.186952Z",
     "iopub.status.idle": "2025-01-03T18:51:15.213588Z",
     "shell.execute_reply": "2025-01-03T18:51:15.212321Z"
    },
    "papermill": {
     "duration": 0.03691,
     "end_time": "2025-01-03T18:51:15.215691",
     "exception": false,
     "start_time": "2025-01-03T18:51:15.178781",
     "status": "completed"
    },
    "tags": []
   },
   "outputs": [],
   "source": [
    "def bin_cont_cols(data):\n",
    "    passLength_bins = []\n",
    "    for i in range(len(data['passLength'])):\n",
    "        if not np.isnan(data['passLength'][i]):\n",
    "            if data['passLength'][i] < 0:\n",
    "                passLength_bins.append(\"Behind_LOS\")\n",
    "            elif (data['passLength'][i] >= 0) and (data['passLength'][i] < 10):\n",
    "                passLength_bins.append(\"0-10 yards\")\n",
    "            elif (data['passLength'][i] >= 10) and (data['passLength'][i] < 20):\n",
    "                passLength_bins.append(\"10-20 yards\")\n",
    "            elif (data['passLength'][i] >= 20) and (data['passLength'][i] < 30):\n",
    "                passLength_bins.append(\"20-30 yards\")\n",
    "            elif (data['passLength'][i] >= 30) and (data['passLength'][i] < 40):\n",
    "                passLength_bins.append(\"20-40 yards\")\n",
    "            elif (data['passLength'][i] >= 40):\n",
    "                passLength_bins.append(\"> 40 yards\")\n",
    "        else:\n",
    "            passLength_bins.append(\"No Pass\")\n",
    "    \n",
    "    \n",
    "    yardsGained_bins = []\n",
    "    for j in range(len(data['yardsGained'])):\n",
    "        if data['yardsGained'][j]:\n",
    "            if data['yardsGained'][j] < 0:\n",
    "                yardsGained_bins.append(\"< 0 yards\")\n",
    "            elif (data['yardsGained'][j] >= 0) and (data['yardsGained'][j] < 5):\n",
    "                yardsGained_bins.append(\"0-5 yards\")\n",
    "            elif (data['yardsGained'][j] >= 5) and (data['yardsGained'][j] < 10):\n",
    "                yardsGained_bins.append(\"5-10 yards\")\n",
    "            elif (data['yardsGained'][j] >= 10) and (data['yardsGained'][j] < 15):\n",
    "                yardsGained_bins.append(\"10-15 yards\")\n",
    "            elif (data['yardsGained'][j] >= 15) and (data['yardsGained'][j] < 20):\n",
    "                yardsGained_bins.append(\"15-20 yards\")\n",
    "            elif (data['yardsGained'][j] >= 20) and (data['yardsGained'][j] < 25):\n",
    "                yardsGained_bins.append(\"20-25 yards\")\n",
    "            elif (data['yardsGained'][j] >= 25) and (data['yardsGained'][j] < 30):\n",
    "                yardsGained_bins.append(\"25-30 yards\")\n",
    "            elif (data['yardsGained'][j] >= 30):\n",
    "                yardsGained_bins.append(\"> 30 yards\")\n",
    "        else:\n",
    "            yardsGained_bins.append(\"N/A\")\n",
    "    \n",
    "    penaltyYards_bins = []\n",
    "    for k in range(len(data['penaltyYards'])):\n",
    "        if not np.isnan(data['penaltyYards'][k]):\n",
    "            if (data['penaltyYards'][k] < -5):\n",
    "                penaltyYards_bins.append(\"< -5 yards\")\n",
    "            elif (data['penaltyYards'][k] >= -5) and (data['penaltyYards'][k] < 0):\n",
    "                penaltyYards_bins.append(\"0 to -5 yards\")\n",
    "            elif (data['penaltyYards'][k] >= 0) and (data['penaltyYards'][k] < 5):\n",
    "                penaltyYards_bins.append(\"0 to 5 yards\")\n",
    "            elif (data['penaltyYards'][k] >= 5) and (data['penaltyYards'][k] < 10):\n",
    "                penaltyYards_bins.append(\"5 to 10 yards\")\n",
    "            elif (data['penaltyYards'][k] >= 10) and (data['penaltyYards'][k] < 15):\n",
    "                penaltyYards_bins.append(\"10 to 15 yards\")\n",
    "            elif (data['penaltyYards'][k] >= 15) and (data['penaltyYards'][k] < 20):\n",
    "                penaltyYards_bins.append(\"15 to 20 yards\")\n",
    "            elif (data['penaltyYards'][k] >= 20):\n",
    "                penaltyYards_bins.append(\"> 20 yards\")\n",
    "        else:\n",
    "            penaltyYards_bins.append(\"N/A\")\n",
    "            \n",
    "    endzoneDist_bins = []\n",
    "    for l in range(len(data['absoluteYardlineNumber'])):\n",
    "        if data['absoluteYardlineNumber'][l]:\n",
    "            if (data['absoluteYardlineNumber'][l] < 10):\n",
    "                endzoneDist_bins.append(\"< 10 yards\")\n",
    "            elif (data['absoluteYardlineNumber'][l] >= 10) and (data['absoluteYardlineNumber'][l] < 20):\n",
    "                endzoneDist_bins.append(\"10-20 yards\")\n",
    "            elif (data['absoluteYardlineNumber'][l] >= 20) and (data['absoluteYardlineNumber'][l] < 30):\n",
    "                endzoneDist_bins.append(\"20-30 yards\")\n",
    "            elif (data['absoluteYardlineNumber'][l] >= 30) and (data['absoluteYardlineNumber'][l] < 40):\n",
    "                endzoneDist_bins.append(\"30-40 yards\")\n",
    "            elif (data['absoluteYardlineNumber'][l] >= 40) and (data['absoluteYardlineNumber'][l] < 50):\n",
    "                endzoneDist_bins.append(\"40-50 yards\")\n",
    "            elif (data['absoluteYardlineNumber'][l] >= 50) and (data['absoluteYardlineNumber'][l] < 60):\n",
    "                endzoneDist_bins.append(\"50-60 yards\")\n",
    "            elif (data['absoluteYardlineNumber'][l] >= 60) and (data['absoluteYardlineNumber'][l] < 70):\n",
    "                endzoneDist_bins.append(\"60-70 yards\")\n",
    "            elif (data['absoluteYardlineNumber'][l] >= 70) and (data['absoluteYardlineNumber'][l] < 80):\n",
    "                endzoneDist_bins.append(\"70-80 yards\")\n",
    "            elif (data['absoluteYardlineNumber'][l] >= 80) and (data['absoluteYardlineNumber'][l] < 90):\n",
    "                endzoneDist_bins.append(\"80-90 yards\")\n",
    "            elif (data['absoluteYardlineNumber'][l] >= 90):\n",
    "                endzoneDist_bins.append(\"> 90 yards\")\n",
    "        else:\n",
    "            endzoneDist_bins.append(\"N/A\")\n",
    "\n",
    "    timeToThrow_bins = []\n",
    "    for p in range(len(data['timeToThrow'])):\n",
    "        if not np.isnan(data['timeToThrow'][p]):\n",
    "            if data['timeToThrow'][p] < 2:\n",
    "                timeToThrow_bins.append(\"< 2 seconds\")\n",
    "            elif (data['timeToThrow'][p] >= 2) and (data['timeToThrow'][p] < 5):\n",
    "                timeToThrow_bins.append(\"2-5 seconds\")\n",
    "            elif (data['timeToThrow'][p] >= 5) and (data['timeToThrow'][p] < 10):\n",
    "                timeToThrow_bins.append(\"5-10 seconds\")\n",
    "            elif (data['timeToThrow'][p] >= 10):\n",
    "                timeToThrow_bins.append(\"> 10 seconds\")\n",
    "        else:\n",
    "            timeToThrow_bins.append(\"No Pass\")\n",
    "\n",
    "    dropbackDist_bins = []\n",
    "    for q in range(len(data['dropbackDistance'])):\n",
    "        if not np.isnan(data['dropbackDistance'][q]):\n",
    "            if (data['dropbackDistance'][q] >= 0) and (data['dropbackDistance'][q] < 3):\n",
    "                dropbackDist_bins.append(\"0-3 yards\")\n",
    "            elif (data['dropbackDistance'][q] >= 3) and (data['dropbackDistance'][q] < 5):\n",
    "                dropbackDist_bins.append(\"3-5 yards\")\n",
    "            elif (data['dropbackDistance'][q] >= 5) and (data['dropbackDistance'][q] < 8):\n",
    "                dropbackDist_bins.append(\"5-8 yards\")\n",
    "            elif (data['dropbackDistance'][q] >= 8):\n",
    "                dropbackDist_bins.append(\"> 8 yards\")\n",
    "        else:\n",
    "            dropbackDist_bins.append(\"No Pass\")\n",
    "\n",
    "    minutes_remaining = []\n",
    "    for r in range(len(data)):\n",
    "        m = int(data['gameClock'][r].split(\":\")[0])\n",
    "        if m < 2:\n",
    "            minutes_remaining.append(\"< 2 minutes\")\n",
    "        elif (m >= 2) and (m < 4):\n",
    "            minutes_remaining.append(\"2-4 minutes\")\n",
    "        elif (m >= 4) and (m < 6):\n",
    "            minutes_remaining.append(\"4-6 minutes\")\n",
    "        elif (m >= 6) and (m < 8):\n",
    "            minutes_remaining.append(\"6-8 minutes\")\n",
    "        elif (m >= 8) and (m < 10):\n",
    "            minutes_remaining.append(\"8-10 minutes\")\n",
    "        elif (m >= 10) and (m < 12):\n",
    "            minutes_remaining.append(\"10-12 minutes\")\n",
    "        elif (m >= 12):\n",
    "            minutes_remaining.append(\"> 12 minutes\")\n",
    "    \n",
    "    \n",
    "    data['yardsGained_bins'] = yardsGained_bins\n",
    "    data['passLen_bins'] = passLength_bins\n",
    "    data['penaltyYards_bins'] = penaltyYards_bins\n",
    "    data['endzoneDist_bins'] = endzoneDist_bins\n",
    "    data['timeToThrow_bins'] = timeToThrow_bins\n",
    "    data['dropBackDist_bins'] = dropbackDist_bins\n",
    "    data['minutesRemaininginQuarter'] = minutes_remaining\n",
    "\n",
    "    return data"
   ]
  },
  {
   "cell_type": "code",
   "execution_count": 6,
   "id": "decb8a5a",
   "metadata": {
    "execution": {
     "iopub.execute_input": "2025-01-03T18:51:15.231335Z",
     "iopub.status.busy": "2025-01-03T18:51:15.230940Z",
     "iopub.status.idle": "2025-01-03T18:51:43.032717Z",
     "shell.execute_reply": "2025-01-03T18:51:43.031499Z"
    },
    "papermill": {
     "duration": 27.812308,
     "end_time": "2025-01-03T18:51:43.035211",
     "exception": false,
     "start_time": "2025-01-03T18:51:15.222903",
     "status": "completed"
    },
    "tags": []
   },
   "outputs": [],
   "source": [
    "games = pd.read_csv(f'{project_dir}/games.csv')\n",
    "plays = pd.read_csv(f'{project_dir}/plays.csv')\n",
    "players = pd.read_csv(f'{project_dir}/players.csv')\n",
    "tracking_df = pd.read_csv(f'{project_dir}/tracking_week_1.csv')\n",
    "\n",
    "motion2 = pd.read_csv(\"/kaggle/input/nfl-bdb25-build-dataset/motion2.csv\")\n",
    "motion2_control = pd.read_csv(\"/kaggle/input/nfl-bdb25-build-dataset/motion2_control.csv\")\n",
    "motion2_control2 = pd.read_csv(\"/kaggle/input/nfl-bdb25-build-dataset/motion2_control2.csv\")"
   ]
  },
  {
   "cell_type": "code",
   "execution_count": 7,
   "id": "02c84b0a",
   "metadata": {
    "execution": {
     "iopub.execute_input": "2025-01-03T18:51:43.054056Z",
     "iopub.status.busy": "2025-01-03T18:51:43.053668Z",
     "iopub.status.idle": "2025-01-03T18:51:46.131876Z",
     "shell.execute_reply": "2025-01-03T18:51:46.130804Z"
    },
    "papermill": {
     "duration": 3.090128,
     "end_time": "2025-01-03T18:51:46.133797",
     "exception": false,
     "start_time": "2025-01-03T18:51:43.043669",
     "status": "completed"
    },
    "tags": []
   },
   "outputs": [],
   "source": [
    "tmp = tmp.drop(['passDefensed','routeRan'], axis=1)\n",
    "\n",
    "motion2 = bin_cont_cols(motion2)\n",
    "motion2_control = bin_cont_cols(motion2_control)\n",
    "motion2_control2 = bin_cont_cols(motion2_control2)\n",
    "\n",
    "motion2 = motion2.merge(tmp, left_on=['game_id', 'playId'], right_on=['gameId','playId'])\n",
    "motion2_control = motion2_control.merge(tmp, left_on=[\"gameId\",'playId'], right_on=[\"gameId\",'playId'])\n",
    "motion2_control2 = motion2_control2.merge(tmp, left_on=[\"gameId\", \"playId\"], right_on=[\"gameId\", \"playId\"])\n",
    "\n",
    "vals = [\"C\",\"I\",\"S\",\"R\",\"IN\"]\n",
    "motion2['ispass'] = [0 if i not in vals else 1 for i in motion2['passResult']]\n",
    "motion2_control['ispass'] = [0 if not i in vals else 1 for i in motion2_control['passResult']]\n",
    "motion2_control2['ispass'] = [0 if not i in vals else 1 for i in motion2_control2['passResult']]"
   ]
  },
  {
   "cell_type": "markdown",
   "id": "45e74c2f",
   "metadata": {
    "papermill": {
     "duration": 0.007487,
     "end_time": "2025-01-03T18:51:46.148819",
     "exception": false,
     "start_time": "2025-01-03T18:51:46.141332",
     "status": "completed"
    },
    "tags": []
   },
   "source": [
    "# Overview Visuals"
   ]
  },
  {
   "cell_type": "code",
   "execution_count": 8,
   "id": "f8dfa906",
   "metadata": {
    "execution": {
     "iopub.execute_input": "2025-01-03T18:51:46.164012Z",
     "iopub.status.busy": "2025-01-03T18:51:46.163601Z",
     "iopub.status.idle": "2025-01-03T18:51:53.231453Z",
     "shell.execute_reply": "2025-01-03T18:51:53.230270Z"
    },
    "papermill": {
     "duration": 7.077831,
     "end_time": "2025-01-03T18:51:53.233568",
     "exception": false,
     "start_time": "2025-01-03T18:51:46.155737",
     "status": "completed"
    },
    "tags": []
   },
   "outputs": [
    {
     "data": {
      "text/html": [
       "<iframe\n",
       "    scrolling=\"no\"\n",
       "    width=\"1220px\"\n",
       "    height=\"620\"\n",
       "    src=\"iframe_figures/figure_8.html\"\n",
       "    frameborder=\"0\"\n",
       "    allowfullscreen\n",
       "></iframe>\n"
      ]
     },
     "metadata": {},
     "output_type": "display_data"
    }
   ],
   "source": [
    "gid = 2022091103\n",
    "pid = 4300\n",
    "\n",
    "fig = animate_play(games=games, tracking_df=tracking_df,\n",
    "             play_df=plays, players=players, gameId=gid,\n",
    "             playId=pid)\n",
    "\n",
    "fig2 = go.Figure(fig)\n",
    "fig2.show(renderer='iframe')"
   ]
  },
  {
   "cell_type": "markdown",
   "id": "c3f5f627",
   "metadata": {
    "papermill": {
     "duration": 0.006805,
     "end_time": "2025-01-03T18:51:53.247805",
     "exception": false,
     "start_time": "2025-01-03T18:51:53.241000",
     "status": "completed"
    },
    "tags": []
   },
   "source": [
    "# Bar Charts"
   ]
  },
  {
   "cell_type": "code",
   "execution_count": 9,
   "id": "a4c2a906",
   "metadata": {
    "execution": {
     "iopub.execute_input": "2025-01-03T18:51:53.263838Z",
     "iopub.status.busy": "2025-01-03T18:51:53.263393Z",
     "iopub.status.idle": "2025-01-03T18:51:53.597253Z",
     "shell.execute_reply": "2025-01-03T18:51:53.596089Z"
    },
    "papermill": {
     "duration": 0.34474,
     "end_time": "2025-01-03T18:51:53.599590",
     "exception": false,
     "start_time": "2025-01-03T18:51:53.254850",
     "status": "completed"
    },
    "tags": []
   },
   "outputs": [],
   "source": [
    "import plotly.express as px\n",
    "import plotly.graph_objs as go"
   ]
  },
  {
   "cell_type": "code",
   "execution_count": 10,
   "id": "e07d841e",
   "metadata": {
    "execution": {
     "iopub.execute_input": "2025-01-03T18:51:53.615995Z",
     "iopub.status.busy": "2025-01-03T18:51:53.615250Z",
     "iopub.status.idle": "2025-01-03T18:51:53.625183Z",
     "shell.execute_reply": "2025-01-03T18:51:53.624004Z"
    },
    "papermill": {
     "duration": 0.020069,
     "end_time": "2025-01-03T18:51:53.627108",
     "exception": false,
     "start_time": "2025-01-03T18:51:53.607039",
     "status": "completed"
    },
    "tags": []
   },
   "outputs": [],
   "source": [
    "def make_route_df(data):\n",
    "    percent_go = np.round(sum(data['GO']) / data.shape[0], 2) * 100\n",
    "    percent_hitch = np.round(sum(data['HITCH']) / data.shape[0], 2) * 100\n",
    "    percent_flat = np.round(sum(data['FLAT']) / data.shape[0], 2) * 100\n",
    "    percent_out = np.round(sum(data['OUT']) / data.shape[0], 2) * 100\n",
    "    percent_cross = np.round(sum(data['CROSS']) / data.shape[0], 2) * 100\n",
    "    percent_in = np.round(sum(data['IN']) / data.shape[0], 2) * 100\n",
    "    percent_post = np.round(sum(data['POST']) / data.shape[0], 2) * 100\n",
    "    percent_slant = np.round(sum(data['SLANT']) / data.shape[0], 2) * 100\n",
    "    percent_corner = np.round(sum(data['CORNER']) / data.shape[0], 2) * 100\n",
    "    percent_screen = np.round(sum(data['SCREEN']) / data.shape[0], 2) * 100\n",
    "    percent_angle = np.round(sum(data['ANGLE']) / data.shape[0], 2) * 100\n",
    "    percent_wheel = np.round(sum(data['WHEEL']) / data.shape[0], 2) * 100\n",
    "    \n",
    "    cols = ['% Go', '% Hitch', '% Flat', '% Out', '% Cross', '% In','% Post', '% Slant','% Corner','% Screen', '% Angle', '% Wheel']\n",
    "    \n",
    "    out_df = pd.DataFrame(dict(values=[percent_go, \n",
    "                                       percent_hitch, \n",
    "                                       percent_flat, \n",
    "                                       percent_out,\n",
    "                                       percent_cross,\n",
    "                                       percent_in,\n",
    "                                       percent_post,\n",
    "                                       percent_slant,\n",
    "                                       percent_corner,\n",
    "                                       percent_screen,\n",
    "                                       percent_angle,\n",
    "                                       percent_wheel], columns=cols))\n",
    "\n",
    "    return out_df\n",
    "        "
   ]
  },
  {
   "cell_type": "code",
   "execution_count": 11,
   "id": "0f6484a5",
   "metadata": {
    "execution": {
     "iopub.execute_input": "2025-01-03T18:51:53.643492Z",
     "iopub.status.busy": "2025-01-03T18:51:53.642986Z",
     "iopub.status.idle": "2025-01-03T18:51:53.648757Z",
     "shell.execute_reply": "2025-01-03T18:51:53.647564Z"
    },
    "papermill": {
     "duration": 0.01614,
     "end_time": "2025-01-03T18:51:53.650641",
     "exception": false,
     "start_time": "2025-01-03T18:51:53.634501",
     "status": "completed"
    },
    "tags": []
   },
   "outputs": [],
   "source": [
    "def pass_thrown_df(data):\n",
    "    percent_thrown = np.round(sum(data['ispass']) / data.shape[0], 2) * 100\n",
    "    cols = ['% Pass Play']\n",
    "\n",
    "    out_df = pd.DataFrame(dict(values=[percent_thrown], columns=cols))\n",
    "\n",
    "    return out_df"
   ]
  },
  {
   "cell_type": "code",
   "execution_count": 12,
   "id": "807baf6b",
   "metadata": {
    "execution": {
     "iopub.execute_input": "2025-01-03T18:51:53.666681Z",
     "iopub.status.busy": "2025-01-03T18:51:53.666257Z",
     "iopub.status.idle": "2025-01-03T18:51:53.673361Z",
     "shell.execute_reply": "2025-01-03T18:51:53.672177Z"
    },
    "papermill": {
     "duration": 0.017165,
     "end_time": "2025-01-03T18:51:53.675134",
     "exception": false,
     "start_time": "2025-01-03T18:51:53.657969",
     "status": "completed"
    },
    "tags": []
   },
   "outputs": [],
   "source": [
    "def passresult_df(data):\n",
    "    catch_percent = np.round(data[data['passResult'] == 'C'].shape[0] / data.shape[0], 2) * 100\n",
    "    incomplete_percent = np.round(data[data['passResult'] == 'I'].shape[0] / data.shape[0], 2) * 100\n",
    "    sack_percent = np.round(data[data['passResult'] == 'S'].shape[0] / data.shape[0], 2) * 100\n",
    "    scramble_percent = np.round(data[data['passResult'] == 'R'].shape[0] / data.shape[0], 2) * 100\n",
    "    int_percent = np.round(data[data['passResult'] == 'IN'].shape[0] / data.shape[0], 2) * 100\n",
    "\n",
    "    cols = ['Complete %', 'Incomplete %', 'Sack %', 'Scramble %', 'Interception %']\n",
    "\n",
    "    out_df = pd.DataFrame(dict(values=[catch_percent,\n",
    "                                       incomplete_percent,\n",
    "                                       sack_percent,\n",
    "                                       scramble_percent,\n",
    "                                       int_percent], columns=cols))\n",
    "\n",
    "    return out_df"
   ]
  },
  {
   "cell_type": "code",
   "execution_count": 13,
   "id": "c6669df2",
   "metadata": {
    "execution": {
     "iopub.execute_input": "2025-01-03T18:51:53.690871Z",
     "iopub.status.busy": "2025-01-03T18:51:53.690429Z",
     "iopub.status.idle": "2025-01-03T18:51:53.717094Z",
     "shell.execute_reply": "2025-01-03T18:51:53.715957Z"
    },
    "papermill": {
     "duration": 0.036956,
     "end_time": "2025-01-03T18:51:53.719265",
     "exception": false,
     "start_time": "2025-01-03T18:51:53.682309",
     "status": "completed"
    },
    "tags": []
   },
   "outputs": [],
   "source": [
    "ttt_df = make_route_df(motion2)\n",
    "no_ttt_df = make_route_df(motion2_control)\n",
    "no_ttt_df2 = make_route_df(motion2_control2)"
   ]
  },
  {
   "cell_type": "code",
   "execution_count": 14,
   "id": "728a2a03",
   "metadata": {
    "execution": {
     "iopub.execute_input": "2025-01-03T18:51:53.735321Z",
     "iopub.status.busy": "2025-01-03T18:51:53.734923Z",
     "iopub.status.idle": "2025-01-03T18:51:53.828197Z",
     "shell.execute_reply": "2025-01-03T18:51:53.827023Z"
    },
    "papermill": {
     "duration": 0.103581,
     "end_time": "2025-01-03T18:51:53.830309",
     "exception": false,
     "start_time": "2025-01-03T18:51:53.726728",
     "status": "completed"
    },
    "tags": []
   },
   "outputs": [
    {
     "data": {
      "text/html": [
       "<iframe\n",
       "    scrolling=\"no\"\n",
       "    width=\"100%\"\n",
       "    height=\"545px\"\n",
       "    src=\"iframe_figures/figure_14.html\"\n",
       "    frameborder=\"0\"\n",
       "    allowfullscreen\n",
       "></iframe>\n"
      ]
     },
     "metadata": {},
     "output_type": "display_data"
    }
   ],
   "source": [
    "fig = go.Figure()\n",
    "fig.add_trace(go.Bar(name='TTT Shift', x=ttt_df['columns'], y=ttt_df['values'], text= np.round(ttt_df['values'],2)))\n",
    "fig.add_trace(go.Bar(name='No TTT Shift', x=no_ttt_df['columns'], y=no_ttt_df['values'], text= np.round(no_ttt_df['values'],2)))\n",
    "\n",
    "# Change the bar mode\n",
    "fig.update_layout(barmode='group', template='plotly_white', legend=dict(orientation='h', x=0.3))\n",
    "#fig.update_layout(width=800, height=700)\n",
    "fig.update_layout(yaxis_title={'text': '% of Plays','font': {'size': 20}})\n",
    "fig.update_traces(textfont_size=20)\n",
    "fig.update_layout(xaxis = dict(tickfont = dict(size=17)))\n",
    "\n",
    "fig.show(renderer='iframe')"
   ]
  },
  {
   "cell_type": "code",
   "execution_count": 15,
   "id": "ffa128d8",
   "metadata": {
    "execution": {
     "iopub.execute_input": "2025-01-03T18:51:53.846324Z",
     "iopub.status.busy": "2025-01-03T18:51:53.845916Z",
     "iopub.status.idle": "2025-01-03T18:51:53.904638Z",
     "shell.execute_reply": "2025-01-03T18:51:53.903586Z"
    },
    "papermill": {
     "duration": 0.068796,
     "end_time": "2025-01-03T18:51:53.906426",
     "exception": false,
     "start_time": "2025-01-03T18:51:53.837630",
     "status": "completed"
    },
    "tags": []
   },
   "outputs": [
    {
     "data": {
      "text/html": [
       "<iframe\n",
       "    scrolling=\"no\"\n",
       "    width=\"100%\"\n",
       "    height=\"545px\"\n",
       "    src=\"iframe_figures/figure_15.html\"\n",
       "    frameborder=\"0\"\n",
       "    allowfullscreen\n",
       "></iframe>\n"
      ]
     },
     "metadata": {},
     "output_type": "display_data"
    }
   ],
   "source": [
    "fig = go.Figure()\n",
    "fig.add_trace(go.Bar(name='TTT Shift', x=ttt_df['columns'], y=ttt_df['values'], text= np.round(ttt_df['values'],2)))\n",
    "fig.add_trace(go.Bar(name='2x2 No Motion', x=no_ttt_df2['columns'], y=no_ttt_df2['values'], text= np.round(no_ttt_df2['values'],2)))\n",
    "\n",
    "# Change the bar mode\n",
    "fig.update_layout(barmode='group', template='plotly_white', legend=dict(orientation='h', x=0.3))\n",
    "fig.update_layout(yaxis_title={'text': '% of Plays','font': {'size': 20}})\n",
    "fig.update_traces(textfont_size=20)\n",
    "fig.update_layout(xaxis = dict(tickfont = dict(size=17)))\n",
    "\n",
    "fig.show(renderer='iframe')"
   ]
  },
  {
   "cell_type": "code",
   "execution_count": 16,
   "id": "b586d434",
   "metadata": {
    "execution": {
     "iopub.execute_input": "2025-01-03T18:51:53.922823Z",
     "iopub.status.busy": "2025-01-03T18:51:53.922391Z",
     "iopub.status.idle": "2025-01-03T18:51:53.983964Z",
     "shell.execute_reply": "2025-01-03T18:51:53.982791Z"
    },
    "papermill": {
     "duration": 0.071757,
     "end_time": "2025-01-03T18:51:53.985725",
     "exception": false,
     "start_time": "2025-01-03T18:51:53.913968",
     "status": "completed"
    },
    "tags": []
   },
   "outputs": [
    {
     "data": {
      "text/html": [
       "<iframe\n",
       "    scrolling=\"no\"\n",
       "    width=\"420px\"\n",
       "    height=\"420\"\n",
       "    src=\"iframe_figures/figure_16.html\"\n",
       "    frameborder=\"0\"\n",
       "    allowfullscreen\n",
       "></iframe>\n"
      ]
     },
     "metadata": {},
     "output_type": "display_data"
    }
   ],
   "source": [
    "ttt_pass = pass_thrown_df(motion2)\n",
    "no_ttt_pass = pass_thrown_df(motion2_control)\n",
    "\n",
    "fig = go.Figure()\n",
    "fig.add_trace(go.Bar(name='TTT Shift', x=ttt_pass['columns'], y=ttt_pass['values'], text= np.round(ttt_pass['values'],2)))\n",
    "fig.add_trace(go.Bar(name='No TTT Shift', x=no_ttt_pass['columns'], y=no_ttt_pass['values'], text= np.round(no_ttt_pass['values'],2)))\n",
    "\n",
    "# Change the bar mode\n",
    "fig.update_layout(barmode='group', template='plotly_white', legend=dict(orientation='h', x=0.3))\n",
    "fig.update_layout(width=400, height=400)\n",
    "fig.update_layout(yaxis_title={'text': '% of Plays','font': {'size': 20}})\n",
    "fig.update_traces(textfont_size=20)\n",
    "fig.update_layout(xaxis = dict(tickfont = dict(size=17)))\n",
    "\n",
    "fig.show(renderer='iframe')"
   ]
  },
  {
   "cell_type": "code",
   "execution_count": 17,
   "id": "8d8823a3",
   "metadata": {
    "execution": {
     "iopub.execute_input": "2025-01-03T18:51:54.002057Z",
     "iopub.status.busy": "2025-01-03T18:51:54.001688Z",
     "iopub.status.idle": "2025-01-03T18:51:54.063236Z",
     "shell.execute_reply": "2025-01-03T18:51:54.062177Z"
    },
    "papermill": {
     "duration": 0.071827,
     "end_time": "2025-01-03T18:51:54.065118",
     "exception": false,
     "start_time": "2025-01-03T18:51:53.993291",
     "status": "completed"
    },
    "tags": []
   },
   "outputs": [
    {
     "data": {
      "text/html": [
       "<iframe\n",
       "    scrolling=\"no\"\n",
       "    width=\"420px\"\n",
       "    height=\"420\"\n",
       "    src=\"iframe_figures/figure_17.html\"\n",
       "    frameborder=\"0\"\n",
       "    allowfullscreen\n",
       "></iframe>\n"
      ]
     },
     "metadata": {},
     "output_type": "display_data"
    }
   ],
   "source": [
    "ttt_pass = pass_thrown_df(motion2)\n",
    "no_ttt_pass2 = pass_thrown_df(motion2_control2)\n",
    "\n",
    "fig = go.Figure()\n",
    "fig.add_trace(go.Bar(name='TTT Shift', x=ttt_pass['columns'], y=ttt_pass['values'], text= np.round(ttt_pass['values'],2)))\n",
    "fig.add_trace(go.Bar(name='2x2 No Shift', x=no_ttt_pass2['columns'], y=no_ttt_pass2['values'], text= np.round(no_ttt_pass2['values'],2)))\n",
    "\n",
    "# Change the bar mode\n",
    "fig.update_layout(barmode='group', template='plotly_white', legend=dict(orientation='h', x=0.3))\n",
    "fig.update_layout(width=400, height=400)\n",
    "\n",
    "fig.update_layout(yaxis_title={'text': '% of Plays','font': {'size': 20}})\n",
    "fig.update_traces(textfont_size=20)\n",
    "fig.update_layout(xaxis = dict(tickfont = dict(size=17)))\n",
    "fig.show(renderer='iframe')"
   ]
  },
  {
   "cell_type": "code",
   "execution_count": 18,
   "id": "f32f9de0",
   "metadata": {
    "execution": {
     "iopub.execute_input": "2025-01-03T18:51:54.081657Z",
     "iopub.status.busy": "2025-01-03T18:51:54.081250Z",
     "iopub.status.idle": "2025-01-03T18:51:54.156215Z",
     "shell.execute_reply": "2025-01-03T18:51:54.155158Z"
    },
    "papermill": {
     "duration": 0.085265,
     "end_time": "2025-01-03T18:51:54.157986",
     "exception": false,
     "start_time": "2025-01-03T18:51:54.072721",
     "status": "completed"
    },
    "tags": []
   },
   "outputs": [
    {
     "data": {
      "text/html": [
       "<iframe\n",
       "    scrolling=\"no\"\n",
       "    width=\"100%\"\n",
       "    height=\"545px\"\n",
       "    src=\"iframe_figures/figure_18.html\"\n",
       "    frameborder=\"0\"\n",
       "    allowfullscreen\n",
       "></iframe>\n"
      ]
     },
     "metadata": {},
     "output_type": "display_data"
    }
   ],
   "source": [
    "passresult_ttt = passresult_df(motion2)\n",
    "passresult_no_ttt = passresult_df(motion2_control)\n",
    "\n",
    "fig = go.Figure()\n",
    "fig.add_trace(go.Bar(name='TTT Shift', x=passresult_ttt['columns'], y=passresult_ttt['values'], text= np.round(passresult_ttt['values'],2)))\n",
    "fig.add_trace(go.Bar(name='No TTT Shift', x=passresult_no_ttt['columns'], y=passresult_no_ttt['values'], text= np.round(passresult_no_ttt['values'],2)))\n",
    "\n",
    "# Change the bar mode\n",
    "fig.update_layout(barmode='group', template='plotly_white', legend=dict(orientation='h', x=0.3))\n",
    "fig.update_layout(yaxis_title={'text': '% of Plays','font': {'size': 20}})\n",
    "fig.update_traces(textfont_size=20)\n",
    "fig.update_layout(xaxis = dict(tickfont = dict(size=17)))\n",
    "\n",
    "fig.show(renderer='iframe')"
   ]
  },
  {
   "cell_type": "code",
   "execution_count": 19,
   "id": "8b37a5c5",
   "metadata": {
    "execution": {
     "iopub.execute_input": "2025-01-03T18:51:54.174570Z",
     "iopub.status.busy": "2025-01-03T18:51:54.174191Z",
     "iopub.status.idle": "2025-01-03T18:51:54.239703Z",
     "shell.execute_reply": "2025-01-03T18:51:54.238578Z"
    },
    "papermill": {
     "duration": 0.076103,
     "end_time": "2025-01-03T18:51:54.241718",
     "exception": false,
     "start_time": "2025-01-03T18:51:54.165615",
     "status": "completed"
    },
    "tags": []
   },
   "outputs": [
    {
     "data": {
      "text/html": [
       "<iframe\n",
       "    scrolling=\"no\"\n",
       "    width=\"100%\"\n",
       "    height=\"545px\"\n",
       "    src=\"iframe_figures/figure_19.html\"\n",
       "    frameborder=\"0\"\n",
       "    allowfullscreen\n",
       "></iframe>\n"
      ]
     },
     "metadata": {},
     "output_type": "display_data"
    }
   ],
   "source": [
    "passresult_ttt = passresult_df(motion2)\n",
    "passresult_no_ttt2 = passresult_df(motion2_control2)\n",
    "\n",
    "fig = go.Figure()\n",
    "fig.add_trace(go.Bar(name='TTT Shift', x=passresult_ttt['columns'], y=passresult_ttt['values'], text= np.round(passresult_ttt['values'],2)))\n",
    "fig.add_trace(go.Bar(name='2x2 No Shift', x=passresult_no_ttt2['columns'], y=passresult_no_ttt2['values'], text= np.round(passresult_no_ttt2['values'],2)))\n",
    "\n",
    "# Change the bar mode\n",
    "fig.update_layout(barmode='group', template='plotly_white', legend=dict(orientation='h', x=0.3))\n",
    "fig.update_layout(yaxis_title={'text': '% of Plays','font': {'size': 20}})\n",
    "fig.update_traces(textfont_size=20)\n",
    "fig.update_layout(xaxis = dict(tickfont = dict(size=17)))\n",
    "\n",
    "fig.show(renderer='iframe')"
   ]
  },
  {
   "cell_type": "markdown",
   "id": "e1da6636",
   "metadata": {
    "papermill": {
     "duration": 0.007402,
     "end_time": "2025-01-03T18:51:54.257209",
     "exception": false,
     "start_time": "2025-01-03T18:51:54.249807",
     "status": "completed"
    },
    "tags": []
   },
   "source": [
    "# Funnel Graphs"
   ]
  },
  {
   "cell_type": "code",
   "execution_count": 20,
   "id": "ced194ff",
   "metadata": {
    "execution": {
     "iopub.execute_input": "2025-01-03T18:51:54.274546Z",
     "iopub.status.busy": "2025-01-03T18:51:54.274110Z",
     "iopub.status.idle": "2025-01-03T18:51:54.284686Z",
     "shell.execute_reply": "2025-01-03T18:51:54.283542Z"
    },
    "papermill": {
     "duration": 0.021764,
     "end_time": "2025-01-03T18:51:54.286595",
     "exception": false,
     "start_time": "2025-01-03T18:51:54.264831",
     "status": "completed"
    },
    "tags": []
   },
   "outputs": [],
   "source": [
    "def get_funnel_df(offenseForm, passCoverage, route, motion_data, control_data):\n",
    "    m1 = motion_data['offenseFormation'] == offenseForm\n",
    "    m2 = motion_data['pff_passCoverage'] == passCoverage\n",
    "    m3 = motion_data['ispass'] == 1\n",
    "    m4 = motion_data[route] == 1\n",
    "\n",
    "    len1 = motion_data.loc[m1].shape[0]\n",
    "    len2 = motion_data.loc[m1 & m2].shape[0]\n",
    "    len3 = motion_data.loc[m1 & m2 & m3].shape[0]\n",
    "    len4 = motion_data.loc[m1 & m2 * m3 & m4].shape[0]\n",
    "\n",
    "    percent1 = np.round(len1 / motion_data.shape[0], 2) * 100\n",
    "    percent2 = np.round(len2 / len1, 2) * 100\n",
    "    percent3 = np.round(len3 / len2, 2) * 100\n",
    "    percent4 = np.round(len4 / len3, 2) * 100\n",
    "\n",
    "    stages = [offenseForm, passCoverage, 'Is Pass',route]\n",
    "    motion = pd.DataFrame(dict(number=[percent1, percent2, percent3, percent4], stage=stages))\n",
    "    motion['Motion'] = \"TTT\"\n",
    "\n",
    "    m4 = control_data['offenseFormation'] == offenseForm\n",
    "    m5 = control_data['pff_passCoverage'] == passCoverage\n",
    "    m6 = control_data['ispass'] == 1\n",
    "    m7 = control_data[route] == 1\n",
    "\n",
    "    len4 = control_data.loc[m4].shape[0]\n",
    "    len5 = control_data.loc[m4 & m5].shape[0]\n",
    "    len6 = control_data.loc[m4 & m5 & m6].shape[0]\n",
    "    len7 = control_data.loc[m4 & m5 & m6 & m7].shape[0]\n",
    "\n",
    "    percent4 = np.round(len4 / control_data.shape[0], 2) * 100\n",
    "    percent5 = np.round(len5 / len4, 2) * 100\n",
    "    percent6 = np.round(len6 / len5, 2) * 100\n",
    "    percent7 = np.round(len7 / len6, 2) * 100\n",
    "\n",
    "    stages2 = [offenseForm, passCoverage,'Is Pass', route]\n",
    "    no_motion = pd.DataFrame(dict(number=[percent4, percent5, percent6, percent7], stage=stages2))\n",
    "    no_motion['Motion'] = \"No TTT\"\n",
    "\n",
    "    funnel_df = pd.concat([motion, no_motion], axis=0)\n",
    "    \n",
    "    return funnel_df"
   ]
  },
  {
   "cell_type": "code",
   "execution_count": 21,
   "id": "781e8aa8",
   "metadata": {
    "execution": {
     "iopub.execute_input": "2025-01-03T18:51:54.303845Z",
     "iopub.status.busy": "2025-01-03T18:51:54.303379Z",
     "iopub.status.idle": "2025-01-03T18:51:54.311928Z",
     "shell.execute_reply": "2025-01-03T18:51:54.310847Z"
    },
    "papermill": {
     "duration": 0.019224,
     "end_time": "2025-01-03T18:51:54.313781",
     "exception": false,
     "start_time": "2025-01-03T18:51:54.294557",
     "status": "completed"
    },
    "tags": []
   },
   "outputs": [],
   "source": [
    "def funnel_df_pass(motion_data, control_data, offenseForm, passCoverage):\n",
    "    m1 = motion_data['offenseFormation'] == offenseForm\n",
    "    m2 = motion_data['pff_passCoverage'] == passCoverage\n",
    "    m3 = motion_data['ispass'] == 1\n",
    "\n",
    "    len1 = motion_data.loc[m1].shape[0]\n",
    "    len2 = motion_data.loc[m1 & m2].shape[0]\n",
    "    len3 = motion_data.loc[m1 & m2 & m3].shape[0]\n",
    "\n",
    "    percent1 = np.round(len1 / motion_data.shape[0], 2) * 100\n",
    "    percent2 = np.round(len2 / len1, 2) * 100\n",
    "    percent3 = np.round(len3 / len2, 2) * 100\n",
    "\n",
    "    stages = [offenseForm, passCoverage, 'Is Pass']\n",
    "    motion = pd.DataFrame(dict(number=[percent1, percent2, percent3], stage=stages))\n",
    "    motion['Motion'] = \"TTT\"\n",
    "\n",
    "    m4 = control_data['offenseFormation'] == offenseForm\n",
    "    m5 = control_data['pff_passCoverage'] == passCoverage\n",
    "    m6 = control_data['ispass'] == 1\n",
    "\n",
    "    len4 = control_data.loc[m4].shape[0]\n",
    "    len5 = control_data.loc[m4 & m5].shape[0]\n",
    "    len6 = control_data.loc[m4 & m5 & m6].shape[0]\n",
    "\n",
    "    percent4 = np.round(len4 / control_data.shape[0], 2) * 100\n",
    "    percent5 = np.round(len5 / len4, 2) * 100\n",
    "    percent6 = np.round(len6 / len5, 2) * 100\n",
    "\n",
    "    stages2 = [offenseForm, passCoverage,'Is Pass']\n",
    "    no_motion = pd.DataFrame(dict(number=[percent4, percent5, percent6], stage=stages2))\n",
    "    no_motion['Motion'] = \"No TTT\"\n",
    "\n",
    "    funnel_df = pd.concat([motion, no_motion], axis=0)\n",
    "    \n",
    "    return funnel_df"
   ]
  },
  {
   "cell_type": "code",
   "execution_count": 22,
   "id": "8f2f863b",
   "metadata": {
    "execution": {
     "iopub.execute_input": "2025-01-03T18:51:54.330979Z",
     "iopub.status.busy": "2025-01-03T18:51:54.330574Z",
     "iopub.status.idle": "2025-01-03T18:51:54.519835Z",
     "shell.execute_reply": "2025-01-03T18:51:54.518570Z"
    },
    "papermill": {
     "duration": 0.200153,
     "end_time": "2025-01-03T18:51:54.521969",
     "exception": false,
     "start_time": "2025-01-03T18:51:54.321816",
     "status": "completed"
    },
    "tags": []
   },
   "outputs": [],
   "source": [
    "funnel_df1 = get_funnel_df('SINGLEBACK','Cover-1','CROSS',motion2,motion2_control)\n",
    "funnel_df2 = get_funnel_df('SINGLEBACK', 'Cover-2', 'CROSS', motion2, motion2_control)\n",
    "funnel_df3 = get_funnel_df('SINGLEBACK', 'Cover-3', 'CROSS', motion2, motion2_control)\n",
    "funnel_df4 = get_funnel_df('SHOTGUN','Cover-1','CROSS',motion2,motion2_control)\n",
    "funnel_df5 = get_funnel_df('SHOTGUN', 'Cover-2', 'CROSS', motion2, motion2_control)\n",
    "funnel_df6 = get_funnel_df('SHOTGUN', 'Cover-3', 'CROSS', motion2, motion2_control)\n",
    "\n",
    "funnel_df7 = get_funnel_df('SINGLEBACK','Cover-1','GO',motion2,motion2_control)\n",
    "funnel_df8 = get_funnel_df('SINGLEBACK', 'Cover-2', 'GO', motion2, motion2_control)\n",
    "funnel_df9 = get_funnel_df('SINGLEBACK', 'Cover-3', 'GO', motion2, motion2_control)\n",
    "funnel_df10 = get_funnel_df('SHOTGUN','Cover-1','GO',motion2,motion2_control)\n",
    "funnel_df11= get_funnel_df('SHOTGUN', 'Cover-2', 'GO', motion2, motion2_control)\n",
    "funnel_df12 = get_funnel_df('SHOTGUN', 'Cover-3', 'GO', motion2, motion2_control)"
   ]
  },
  {
   "cell_type": "code",
   "execution_count": 23,
   "id": "80e286e6",
   "metadata": {
    "execution": {
     "iopub.execute_input": "2025-01-03T18:51:54.539616Z",
     "iopub.status.busy": "2025-01-03T18:51:54.539177Z",
     "iopub.status.idle": "2025-01-03T18:51:54.640508Z",
     "shell.execute_reply": "2025-01-03T18:51:54.639297Z"
    },
    "papermill": {
     "duration": 0.112801,
     "end_time": "2025-01-03T18:51:54.642623",
     "exception": false,
     "start_time": "2025-01-03T18:51:54.529822",
     "status": "completed"
    },
    "tags": []
   },
   "outputs": [],
   "source": [
    "funnel_df13 = get_funnel_df('SINGLEBACK','Cover-1','CROSS',motion2,motion2_control2)\n",
    "funnel_df14 = get_funnel_df('SINGLEBACK', 'Cover-2', 'CROSS', motion2, motion2_control2)\n",
    "funnel_df15 = get_funnel_df('SINGLEBACK', 'Cover-3', 'CROSS', motion2, motion2_control2)\n",
    "funnel_df16 = get_funnel_df('SHOTGUN','Cover-1','CROSS',motion2,motion2_control2)\n",
    "funnel_df17 = get_funnel_df('SHOTGUN', 'Cover-2', 'CROSS', motion2, motion2_control2)\n",
    "funnel_df18 = get_funnel_df('SHOTGUN', 'Cover-3', 'CROSS', motion2, motion2_control2)\n",
    "\n",
    "funnel_df19 = get_funnel_df('SINGLEBACK','Cover-1','GO',motion2,motion2_control2)\n",
    "funnel_df20 = get_funnel_df('SINGLEBACK', 'Cover-2', 'GO', motion2, motion2_control2)\n",
    "funnel_df21 = get_funnel_df('SINGLEBACK', 'Cover-3', 'GO', motion2, motion2_control2)\n",
    "funnel_df22 = get_funnel_df('SHOTGUN','Cover-1','GO',motion2,motion2_control2)\n",
    "funnel_df23= get_funnel_df('SHOTGUN', 'Cover-2', 'GO', motion2, motion2_control2)\n",
    "funnel_df24 = get_funnel_df('SHOTGUN', 'Cover-3', 'GO', motion2, motion2_control2)"
   ]
  },
  {
   "cell_type": "code",
   "execution_count": 24,
   "id": "64bf62f0",
   "metadata": {
    "execution": {
     "iopub.execute_input": "2025-01-03T18:51:54.662045Z",
     "iopub.status.busy": "2025-01-03T18:51:54.661615Z",
     "iopub.status.idle": "2025-01-03T18:51:54.899700Z",
     "shell.execute_reply": "2025-01-03T18:51:54.898485Z"
    },
    "papermill": {
     "duration": 0.24897,
     "end_time": "2025-01-03T18:51:54.901620",
     "exception": false,
     "start_time": "2025-01-03T18:51:54.652650",
     "status": "completed"
    },
    "tags": []
   },
   "outputs": [
    {
     "data": {
      "text/html": [
       "<iframe\n",
       "    scrolling=\"no\"\n",
       "    width=\"520px\"\n",
       "    height=\"420\"\n",
       "    src=\"iframe_figures/figure_24.html\"\n",
       "    frameborder=\"0\"\n",
       "    allowfullscreen\n",
       "></iframe>\n"
      ]
     },
     "metadata": {},
     "output_type": "display_data"
    }
   ],
   "source": [
    "fig = px.funnel(funnel_df24, x='number', y='stage', color='Motion')\n",
    "fig.update_layout(width=500, height=400)\n",
    "fig.show(renderer='iframe')"
   ]
  },
  {
   "cell_type": "code",
   "execution_count": 25,
   "id": "aa765aab",
   "metadata": {
    "execution": {
     "iopub.execute_input": "2025-01-03T18:51:54.918927Z",
     "iopub.status.busy": "2025-01-03T18:51:54.918548Z",
     "iopub.status.idle": "2025-01-03T18:51:55.007763Z",
     "shell.execute_reply": "2025-01-03T18:51:55.006598Z"
    },
    "papermill": {
     "duration": 0.099958,
     "end_time": "2025-01-03T18:51:55.009750",
     "exception": false,
     "start_time": "2025-01-03T18:51:54.909792",
     "status": "completed"
    },
    "tags": []
   },
   "outputs": [],
   "source": [
    "pass_funnel1 = funnel_df_pass(motion2, motion2_control, 'SINGLEBACK','Cover-1')\n",
    "pass_funnel2 = funnel_df_pass(motion2, motion2_control, 'SINGLEBACK','Cover-2')\n",
    "pass_funnel3 = funnel_df_pass(motion2, motion2_control, 'SINGLEBACK','Cover-3')\n",
    "pass_funnel4 = funnel_df_pass(motion2, motion2_control, 'SHOTGUN','Cover-1')\n",
    "pass_funnel5 = funnel_df_pass(motion2, motion2_control, 'SHOTGUN','Cover-2')\n",
    "pass_funnel6 = funnel_df_pass(motion2, motion2_control, 'SHOTGUN','Cover-3')"
   ]
  },
  {
   "cell_type": "code",
   "execution_count": 26,
   "id": "5ef72d53",
   "metadata": {
    "execution": {
     "iopub.execute_input": "2025-01-03T18:51:55.027249Z",
     "iopub.status.busy": "2025-01-03T18:51:55.026896Z",
     "iopub.status.idle": "2025-01-03T18:51:55.100240Z",
     "shell.execute_reply": "2025-01-03T18:51:55.098969Z"
    },
    "papermill": {
     "duration": 0.08461,
     "end_time": "2025-01-03T18:51:55.102242",
     "exception": false,
     "start_time": "2025-01-03T18:51:55.017632",
     "status": "completed"
    },
    "tags": []
   },
   "outputs": [
    {
     "data": {
      "text/html": [
       "<iframe\n",
       "    scrolling=\"no\"\n",
       "    width=\"520px\"\n",
       "    height=\"420\"\n",
       "    src=\"iframe_figures/figure_26.html\"\n",
       "    frameborder=\"0\"\n",
       "    allowfullscreen\n",
       "></iframe>\n"
      ]
     },
     "metadata": {},
     "output_type": "display_data"
    }
   ],
   "source": [
    "fig = px.funnel(pass_funnel6, x='number', y='stage', color='Motion')\n",
    "fig.update_layout(width=500, height=400)\n",
    "fig.show(renderer='iframe')"
   ]
  },
  {
   "cell_type": "code",
   "execution_count": 27,
   "id": "2806eee9",
   "metadata": {
    "execution": {
     "iopub.execute_input": "2025-01-03T18:51:55.120102Z",
     "iopub.status.busy": "2025-01-03T18:51:55.119689Z",
     "iopub.status.idle": "2025-01-03T18:51:55.164982Z",
     "shell.execute_reply": "2025-01-03T18:51:55.163677Z"
    },
    "papermill": {
     "duration": 0.056598,
     "end_time": "2025-01-03T18:51:55.166975",
     "exception": false,
     "start_time": "2025-01-03T18:51:55.110377",
     "status": "completed"
    },
    "tags": []
   },
   "outputs": [],
   "source": [
    "pass_funnel7 = funnel_df_pass(motion2, motion2_control2, 'SINGLEBACK','Cover-1')\n",
    "pass_funnel8 = funnel_df_pass(motion2, motion2_control2, 'SINGLEBACK','Cover-2')\n",
    "pass_funnel9 = funnel_df_pass(motion2, motion2_control2, 'SINGLEBACK','Cover-3')\n",
    "pass_funnel10 = funnel_df_pass(motion2, motion2_control2, 'SHOTGUN','Cover-1')\n",
    "pass_funnel11 = funnel_df_pass(motion2, motion2_control2, 'SHOTGUN','Cover-2')\n",
    "pass_funnel12 = funnel_df_pass(motion2, motion2_control2, 'SHOTGUN','Cover-3')"
   ]
  },
  {
   "cell_type": "code",
   "execution_count": 28,
   "id": "a2e2e0a2",
   "metadata": {
    "execution": {
     "iopub.execute_input": "2025-01-03T18:51:55.184212Z",
     "iopub.status.busy": "2025-01-03T18:51:55.183820Z",
     "iopub.status.idle": "2025-01-03T18:51:55.257683Z",
     "shell.execute_reply": "2025-01-03T18:51:55.256107Z"
    },
    "papermill": {
     "duration": 0.084565,
     "end_time": "2025-01-03T18:51:55.259631",
     "exception": false,
     "start_time": "2025-01-03T18:51:55.175066",
     "status": "completed"
    },
    "tags": []
   },
   "outputs": [
    {
     "data": {
      "text/html": [
       "<iframe\n",
       "    scrolling=\"no\"\n",
       "    width=\"520px\"\n",
       "    height=\"420\"\n",
       "    src=\"iframe_figures/figure_28.html\"\n",
       "    frameborder=\"0\"\n",
       "    allowfullscreen\n",
       "></iframe>\n"
      ]
     },
     "metadata": {},
     "output_type": "display_data"
    }
   ],
   "source": [
    "fig = px.funnel(pass_funnel12, x='number', y='stage', color='Motion')\n",
    "fig.update_layout(width=500, height=400)\n",
    "fig.show(renderer='iframe')"
   ]
  }
 ],
 "metadata": {
  "kaggle": {
   "accelerator": "none",
   "dataSources": [
    {
     "databundleVersionId": 9816926,
     "sourceId": 84175,
     "sourceType": "competition"
    },
    {
     "datasetId": 6415020,
     "sourceId": 10358453,
     "sourceType": "datasetVersion"
    },
    {
     "sourceId": 215317903,
     "sourceType": "kernelVersion"
    }
   ],
   "dockerImageVersionId": 30822,
   "isGpuEnabled": false,
   "isInternetEnabled": true,
   "language": "python",
   "sourceType": "notebook"
  },
  "kernelspec": {
   "display_name": "Python 3",
   "language": "python",
   "name": "python3"
  },
  "language_info": {
   "codemirror_mode": {
    "name": "ipython",
    "version": 3
   },
   "file_extension": ".py",
   "mimetype": "text/x-python",
   "name": "python",
   "nbconvert_exporter": "python",
   "pygments_lexer": "ipython3",
   "version": "3.10.12"
  },
  "papermill": {
   "default_parameters": {},
   "duration": 50.422814,
   "end_time": "2025-01-03T18:51:56.291204",
   "environment_variables": {},
   "exception": null,
   "input_path": "__notebook__.ipynb",
   "output_path": "__notebook__.ipynb",
   "parameters": {},
   "start_time": "2025-01-03T18:51:05.868390",
   "version": "2.6.0"
  }
 },
 "nbformat": 4,
 "nbformat_minor": 5
}
