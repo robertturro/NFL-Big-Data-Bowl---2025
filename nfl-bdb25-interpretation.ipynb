{
 "cells": [
  {
   "cell_type": "code",
   "execution_count": 1,
   "id": "2e1322a4",
   "metadata": {
    "execution": {
     "iopub.execute_input": "2025-01-04T20:42:29.489268Z",
     "iopub.status.busy": "2025-01-04T20:42:29.488901Z",
     "iopub.status.idle": "2025-01-04T20:42:30.469513Z",
     "shell.execute_reply": "2025-01-04T20:42:30.468526Z"
    },
    "papermill": {
     "duration": 0.987518,
     "end_time": "2025-01-04T20:42:30.471790",
     "exception": false,
     "start_time": "2025-01-04T20:42:29.484272",
     "status": "completed"
    },
    "tags": []
   },
   "outputs": [],
   "source": [
    "import pandas as pd\n",
    "import numpy as np\n",
    "pd.set_option('display.max_colwidth', 0)"
   ]
  },
  {
   "cell_type": "code",
   "execution_count": 2,
   "id": "2759095b",
   "metadata": {
    "execution": {
     "iopub.execute_input": "2025-01-04T20:42:30.479245Z",
     "iopub.status.busy": "2025-01-04T20:42:30.478240Z",
     "iopub.status.idle": "2025-01-04T20:42:30.742085Z",
     "shell.execute_reply": "2025-01-04T20:42:30.740957Z"
    },
    "papermill": {
     "duration": 0.269852,
     "end_time": "2025-01-04T20:42:30.744559",
     "exception": false,
     "start_time": "2025-01-04T20:42:30.474707",
     "status": "completed"
    },
    "tags": []
   },
   "outputs": [],
   "source": [
    "plays = pd.read_csv(\"/kaggle/input/nfl-big-data-bowl-2025/plays.csv\")\n",
    "games = pd.read_csv(\"/kaggle/input/nfl-big-data-bowl-2025/games.csv\")"
   ]
  },
  {
   "cell_type": "code",
   "execution_count": 3,
   "id": "55babbaa",
   "metadata": {
    "execution": {
     "iopub.execute_input": "2025-01-04T20:42:30.751855Z",
     "iopub.status.busy": "2025-01-04T20:42:30.751158Z",
     "iopub.status.idle": "2025-01-04T20:42:30.793907Z",
     "shell.execute_reply": "2025-01-04T20:42:30.792685Z"
    },
    "papermill": {
     "duration": 0.048796,
     "end_time": "2025-01-04T20:42:30.796255",
     "exception": false,
     "start_time": "2025-01-04T20:42:30.747459",
     "status": "completed"
    },
    "tags": []
   },
   "outputs": [],
   "source": [
    "# Read in analysis results from the notebook \"BDB25 - Analysis\" and create a new column \"difference\" which calculates the \n",
    "# the difference in percent frequencies of various outcomes.\n",
    "\n",
    "analysis1 = pd.read_csv(\"/kaggle/input/bdb25-analysis2/analysis1.csv\")\n",
    "analysis2 = pd.read_csv(\"/kaggle/input/bdb25-analysis2/analysis2.csv\")\n",
    "\n",
    "analysis1 = analysis1.drop('Unnamed: 0', axis=1)\n",
    "analysis2 = analysis2.drop('Unnamed: 0', axis=1)\n",
    "\n",
    "analysis1['difference'] = abs(analysis1['Test Probability'] - analysis1['Control Probability'])\n",
    "analysis2['difference'] = abs(analysis2['Test Probability'] - analysis2['Control Probability'])\n",
    "\n",
    "analysis1 = analysis1.sort_values(by='difference', ascending=False).reset_index(drop=True)\n",
    "analysis2 = analysis2.sort_values(by='difference', ascending=False).reset_index(drop=True)"
   ]
  },
  {
   "cell_type": "code",
   "execution_count": 4,
   "id": "707de4a5",
   "metadata": {
    "execution": {
     "iopub.execute_input": "2025-01-04T20:42:30.803138Z",
     "iopub.status.busy": "2025-01-04T20:42:30.802749Z",
     "iopub.status.idle": "2025-01-04T20:42:30.808216Z",
     "shell.execute_reply": "2025-01-04T20:42:30.807081Z"
    },
    "papermill": {
     "duration": 0.01152,
     "end_time": "2025-01-04T20:42:30.810523",
     "exception": false,
     "start_time": "2025-01-04T20:42:30.799003",
     "status": "completed"
    },
    "tags": []
   },
   "outputs": [],
   "source": [
    "results = ['passLen_bins', 'yardsGained_bins','passResult','OUT','SLANT','FLAT','IN','GO','CROSS','HITCH','ANGLE','CORNER','POST','SCREEN','ispass']"
   ]
  },
  {
   "cell_type": "code",
   "execution_count": 5,
   "id": "be3cb31c",
   "metadata": {
    "execution": {
     "iopub.execute_input": "2025-01-04T20:42:30.817578Z",
     "iopub.status.busy": "2025-01-04T20:42:30.817146Z",
     "iopub.status.idle": "2025-01-04T20:42:30.829161Z",
     "shell.execute_reply": "2025-01-04T20:42:30.828296Z"
    },
    "papermill": {
     "duration": 0.018039,
     "end_time": "2025-01-04T20:42:30.831293",
     "exception": false,
     "start_time": "2025-01-04T20:42:30.813254",
     "status": "completed"
    },
    "tags": []
   },
   "outputs": [],
   "source": [
    "# Filter the results file for where the computed probability represents a play outcome/result\n",
    "\n",
    "results1 = analysis1[analysis1['P(feature)'].isin(results)].reset_index(drop=True)\n",
    "results2 = analysis2[analysis2['P(feature)'].isin(results)].reset_index(drop=True)\n"
   ]
  },
  {
   "cell_type": "code",
   "execution_count": 6,
   "id": "065b0ac2",
   "metadata": {
    "execution": {
     "iopub.execute_input": "2025-01-04T20:42:30.837620Z",
     "iopub.status.busy": "2025-01-04T20:42:30.837223Z",
     "iopub.status.idle": "2025-01-04T20:42:30.852934Z",
     "shell.execute_reply": "2025-01-04T20:42:30.851975Z"
    },
    "papermill": {
     "duration": 0.021127,
     "end_time": "2025-01-04T20:42:30.854984",
     "exception": false,
     "start_time": "2025-01-04T20:42:30.833857",
     "status": "completed"
    },
    "tags": []
   },
   "outputs": [],
   "source": [
    "# Create a feature to identify the number of routes looked at in an analysis.\n",
    "cnts = []\n",
    "for i in range(len(results1)):\n",
    "    a1 = results1['Analysis'][i].split(\"|\")\n",
    "    cnt = 0\n",
    "    for j in range(len(a1)):\n",
    "        if a1[j] in ['OUT(1)','SLANT(1)','FLAT(1)','IN(1)','GO(1)','CROSS(1)','HITCH(1)','ANGLE(1)','CORNER(1)','POST(1)','SCREEN(1)']:\n",
    "            cnt += 1\n",
    "\n",
    "    cnts.append(cnt)\n",
    "\n",
    "results1['# routes'] = cnts\n",
    "\n",
    "cnts2 = []\n",
    "for k in range(len(results2)):\n",
    "    a2 = results2['Analysis'][k].split(\"|\")\n",
    "    cnt2 = 0\n",
    "    for l in range(len(a2)):\n",
    "        if a2[l] in ['OUT(1)','SLANT(1)','FLAT(1)','IN(1)','GO(1)','CROSS(1)','HITCH(1)','ANGLE(1)','CORNER(1)','POST(1)','SCREEN(1)']:\n",
    "            cnt2 += 1\n",
    "\n",
    "    cnts2.append(cnt2)\n",
    "\n",
    "results2['# routes'] = cnts2"
   ]
  },
  {
   "cell_type": "code",
   "execution_count": 7,
   "id": "582ac030",
   "metadata": {
    "execution": {
     "iopub.execute_input": "2025-01-04T20:42:30.861395Z",
     "iopub.status.busy": "2025-01-04T20:42:30.861065Z",
     "iopub.status.idle": "2025-01-04T20:42:30.883242Z",
     "shell.execute_reply": "2025-01-04T20:42:30.882274Z"
    },
    "papermill": {
     "duration": 0.027823,
     "end_time": "2025-01-04T20:42:30.885488",
     "exception": false,
     "start_time": "2025-01-04T20:42:30.857665",
     "status": "completed"
    },
    "tags": []
   },
   "outputs": [
    {
     "data": {
      "text/html": [
       "<div>\n",
       "<style scoped>\n",
       "    .dataframe tbody tr th:only-of-type {\n",
       "        vertical-align: middle;\n",
       "    }\n",
       "\n",
       "    .dataframe tbody tr th {\n",
       "        vertical-align: top;\n",
       "    }\n",
       "\n",
       "    .dataframe thead th {\n",
       "        text-align: right;\n",
       "    }\n",
       "</style>\n",
       "<table border=\"1\" class=\"dataframe\">\n",
       "  <thead>\n",
       "    <tr style=\"text-align: right;\">\n",
       "      <th></th>\n",
       "      <th>Analysis</th>\n",
       "      <th>Significance</th>\n",
       "      <th>Result</th>\n",
       "      <th>P(feature)</th>\n",
       "      <th>P(val)</th>\n",
       "      <th>Control Probability</th>\n",
       "      <th>Test Probability</th>\n",
       "      <th>difference</th>\n",
       "      <th># routes</th>\n",
       "    </tr>\n",
       "  </thead>\n",
       "  <tbody>\n",
       "    <tr>\n",
       "      <th>7</th>\n",
       "      <td>offenseFormation(SINGLEBACK)|down(1)|passResult(C)|CROSS(1)</td>\n",
       "      <td>0.000014</td>\n",
       "      <td>Less often than expected</td>\n",
       "      <td>CROSS</td>\n",
       "      <td>1</td>\n",
       "      <td>64.93</td>\n",
       "      <td>39.08</td>\n",
       "      <td>25.85</td>\n",
       "      <td>1</td>\n",
       "    </tr>\n",
       "    <tr>\n",
       "      <th>8</th>\n",
       "      <td>offenseFormation(SINGLEBACK)|passLen_bins(0-10 yards)|CROSS(1)</td>\n",
       "      <td>0.000156</td>\n",
       "      <td>Less often than expected</td>\n",
       "      <td>CROSS</td>\n",
       "      <td>1</td>\n",
       "      <td>62.77</td>\n",
       "      <td>38.36</td>\n",
       "      <td>24.41</td>\n",
       "      <td>1</td>\n",
       "    </tr>\n",
       "    <tr>\n",
       "      <th>9</th>\n",
       "      <td>yardsGained_bins(15-20 yards)|ispass(0)</td>\n",
       "      <td>0.000019</td>\n",
       "      <td>More often than expected</td>\n",
       "      <td>ispass</td>\n",
       "      <td>0</td>\n",
       "      <td>19.86</td>\n",
       "      <td>43.75</td>\n",
       "      <td>23.89</td>\n",
       "      <td>0</td>\n",
       "    </tr>\n",
       "    <tr>\n",
       "      <th>10</th>\n",
       "      <td>yardsGained_bins(15-20 yards)|ispass(1)</td>\n",
       "      <td>0.000019</td>\n",
       "      <td>Less often than expected</td>\n",
       "      <td>ispass</td>\n",
       "      <td>1</td>\n",
       "      <td>80.14</td>\n",
       "      <td>56.25</td>\n",
       "      <td>23.89</td>\n",
       "      <td>0</td>\n",
       "    </tr>\n",
       "    <tr>\n",
       "      <th>11</th>\n",
       "      <td>offenseFormation(SHOTGUN)|pff_passCoverage(Cover-3)|down(1)|ispass(1)|GO(1)</td>\n",
       "      <td>0.000960</td>\n",
       "      <td>Less often than expected</td>\n",
       "      <td>GO</td>\n",
       "      <td>1</td>\n",
       "      <td>59.03</td>\n",
       "      <td>35.59</td>\n",
       "      <td>23.44</td>\n",
       "      <td>1</td>\n",
       "    </tr>\n",
       "  </tbody>\n",
       "</table>\n",
       "</div>"
      ],
      "text/plain": [
       "                                                                       Analysis  \\\n",
       "7   offenseFormation(SINGLEBACK)|down(1)|passResult(C)|CROSS(1)                   \n",
       "8   offenseFormation(SINGLEBACK)|passLen_bins(0-10 yards)|CROSS(1)                \n",
       "9   yardsGained_bins(15-20 yards)|ispass(0)                                       \n",
       "10  yardsGained_bins(15-20 yards)|ispass(1)                                       \n",
       "11  offenseFormation(SHOTGUN)|pff_passCoverage(Cover-3)|down(1)|ispass(1)|GO(1)   \n",
       "\n",
       "    Significance                    Result P(feature) P(val)  \\\n",
       "7   0.000014      Less often than expected  CROSS      1       \n",
       "8   0.000156      Less often than expected  CROSS      1       \n",
       "9   0.000019      More often than expected  ispass     0       \n",
       "10  0.000019      Less often than expected  ispass     1       \n",
       "11  0.000960      Less often than expected  GO         1       \n",
       "\n",
       "    Control Probability  Test Probability  difference  # routes  \n",
       "7   64.93                39.08             25.85       1         \n",
       "8   62.77                38.36             24.41       1         \n",
       "9   19.86                43.75             23.89       0         \n",
       "10  80.14                56.25             23.89       0         \n",
       "11  59.03                35.59             23.44       1         "
      ]
     },
     "execution_count": 7,
     "metadata": {},
     "output_type": "execute_result"
    }
   ],
   "source": [
    "# To find results that have the best change of being useful to coaches, the results datasets are filtered for where the change in probability is greater\n",
    "# than or equal to 10 and the number of routes in each analysis is less than 2.\n",
    "\n",
    "m1 = results1['difference'] >= 10\n",
    "m2 = results1['# routes'] < 2\n",
    "\n",
    "results1.loc[m1 & m2].head()"
   ]
  },
  {
   "cell_type": "code",
   "execution_count": 8,
   "id": "6a8adf95",
   "metadata": {
    "execution": {
     "iopub.execute_input": "2025-01-04T20:42:30.892706Z",
     "iopub.status.busy": "2025-01-04T20:42:30.892289Z",
     "iopub.status.idle": "2025-01-04T20:42:30.908060Z",
     "shell.execute_reply": "2025-01-04T20:42:30.907000Z"
    },
    "papermill": {
     "duration": 0.021621,
     "end_time": "2025-01-04T20:42:30.910114",
     "exception": false,
     "start_time": "2025-01-04T20:42:30.888493",
     "status": "completed"
    },
    "tags": []
   },
   "outputs": [
    {
     "data": {
      "text/html": [
       "<div>\n",
       "<style scoped>\n",
       "    .dataframe tbody tr th:only-of-type {\n",
       "        vertical-align: middle;\n",
       "    }\n",
       "\n",
       "    .dataframe tbody tr th {\n",
       "        vertical-align: top;\n",
       "    }\n",
       "\n",
       "    .dataframe thead th {\n",
       "        text-align: right;\n",
       "    }\n",
       "</style>\n",
       "<table border=\"1\" class=\"dataframe\">\n",
       "  <thead>\n",
       "    <tr style=\"text-align: right;\">\n",
       "      <th></th>\n",
       "      <th>Analysis</th>\n",
       "      <th>Significance</th>\n",
       "      <th>Result</th>\n",
       "      <th>P(feature)</th>\n",
       "      <th>P(val)</th>\n",
       "      <th>Control Probability</th>\n",
       "      <th>Test Probability</th>\n",
       "      <th>difference</th>\n",
       "      <th># routes</th>\n",
       "    </tr>\n",
       "  </thead>\n",
       "  <tbody>\n",
       "    <tr>\n",
       "      <th>0</th>\n",
       "      <td>offenseFormation(SINGLEBACK)|down(1)|passResult(C)|CROSS(1)</td>\n",
       "      <td>7.199030e-08</td>\n",
       "      <td>Less often than expected</td>\n",
       "      <td>CROSS</td>\n",
       "      <td>1</td>\n",
       "      <td>77.68</td>\n",
       "      <td>39.08</td>\n",
       "      <td>38.60</td>\n",
       "      <td>1</td>\n",
       "    </tr>\n",
       "    <tr>\n",
       "      <th>1</th>\n",
       "      <td>offenseFormation(SINGLEBACK)|passLen_bins(0-10 yards)|CROSS(1)</td>\n",
       "      <td>1.685518e-06</td>\n",
       "      <td>Less often than expected</td>\n",
       "      <td>CROSS</td>\n",
       "      <td>1</td>\n",
       "      <td>75.49</td>\n",
       "      <td>38.36</td>\n",
       "      <td>37.13</td>\n",
       "      <td>1</td>\n",
       "    </tr>\n",
       "    <tr>\n",
       "      <th>2</th>\n",
       "      <td>offenseFormation(SINGLEBACK)|down(1)|ispass(1)|CROSS(1)</td>\n",
       "      <td>1.806851e-09</td>\n",
       "      <td>Less often than expected</td>\n",
       "      <td>CROSS</td>\n",
       "      <td>1</td>\n",
       "      <td>74.25</td>\n",
       "      <td>39.57</td>\n",
       "      <td>34.68</td>\n",
       "      <td>1</td>\n",
       "    </tr>\n",
       "    <tr>\n",
       "      <th>3</th>\n",
       "      <td>offenseFormation(SINGLEBACK)|pff_passCoverage(Cover-3)|down(1)|ispass(1)|CROSS(1)</td>\n",
       "      <td>5.763008e-04</td>\n",
       "      <td>Less often than expected</td>\n",
       "      <td>CROSS</td>\n",
       "      <td>1</td>\n",
       "      <td>73.33</td>\n",
       "      <td>41.82</td>\n",
       "      <td>31.51</td>\n",
       "      <td>1</td>\n",
       "    </tr>\n",
       "    <tr>\n",
       "      <th>4</th>\n",
       "      <td>offenseFormation(SINGLEBACK)|passResult(C)|CROSS(1)</td>\n",
       "      <td>1.075953e-07</td>\n",
       "      <td>Less often than expected</td>\n",
       "      <td>CROSS</td>\n",
       "      <td>1</td>\n",
       "      <td>73.03</td>\n",
       "      <td>41.94</td>\n",
       "      <td>31.09</td>\n",
       "      <td>1</td>\n",
       "    </tr>\n",
       "  </tbody>\n",
       "</table>\n",
       "</div>"
      ],
      "text/plain": [
       "                                                                            Analysis  \\\n",
       "0  offenseFormation(SINGLEBACK)|down(1)|passResult(C)|CROSS(1)                         \n",
       "1  offenseFormation(SINGLEBACK)|passLen_bins(0-10 yards)|CROSS(1)                      \n",
       "2  offenseFormation(SINGLEBACK)|down(1)|ispass(1)|CROSS(1)                             \n",
       "3  offenseFormation(SINGLEBACK)|pff_passCoverage(Cover-3)|down(1)|ispass(1)|CROSS(1)   \n",
       "4  offenseFormation(SINGLEBACK)|passResult(C)|CROSS(1)                                 \n",
       "\n",
       "   Significance                    Result P(feature) P(val)  \\\n",
       "0  7.199030e-08  Less often than expected  CROSS      1       \n",
       "1  1.685518e-06  Less often than expected  CROSS      1       \n",
       "2  1.806851e-09  Less often than expected  CROSS      1       \n",
       "3  5.763008e-04  Less often than expected  CROSS      1       \n",
       "4  1.075953e-07  Less often than expected  CROSS      1       \n",
       "\n",
       "   Control Probability  Test Probability  difference  # routes  \n",
       "0  77.68                39.08             38.60       1         \n",
       "1  75.49                38.36             37.13       1         \n",
       "2  74.25                39.57             34.68       1         \n",
       "3  73.33                41.82             31.51       1         \n",
       "4  73.03                41.94             31.09       1         "
      ]
     },
     "execution_count": 8,
     "metadata": {},
     "output_type": "execute_result"
    }
   ],
   "source": [
    "m1 = results2['difference'] >= 13\n",
    "m2 = results2['# routes'] < 2\n",
    "\n",
    "results2.loc[m1 & m2].reset_index(drop=True).head()"
   ]
  }
 ],
 "metadata": {
  "kaggle": {
   "accelerator": "none",
   "dataSources": [
    {
     "databundleVersionId": 9816926,
     "sourceId": 84175,
     "sourceType": "competition"
    },
    {
     "datasetId": 6415020,
     "sourceId": 10358453,
     "sourceType": "datasetVersion"
    },
    {
     "sourceId": 214502975,
     "sourceType": "kernelVersion"
    }
   ],
   "dockerImageVersionId": 30804,
   "isGpuEnabled": false,
   "isInternetEnabled": true,
   "language": "python",
   "sourceType": "notebook"
  },
  "kernelspec": {
   "display_name": "Python 3",
   "language": "python",
   "name": "python3"
  },
  "language_info": {
   "codemirror_mode": {
    "name": "ipython",
    "version": 3
   },
   "file_extension": ".py",
   "mimetype": "text/x-python",
   "name": "python",
   "nbconvert_exporter": "python",
   "pygments_lexer": "ipython3",
   "version": "3.10.14"
  },
  "papermill": {
   "default_parameters": {},
   "duration": 5.20078,
   "end_time": "2025-01-04T20:42:31.432917",
   "environment_variables": {},
   "exception": null,
   "input_path": "__notebook__.ipynb",
   "output_path": "__notebook__.ipynb",
   "parameters": {},
   "start_time": "2025-01-04T20:42:26.232137",
   "version": "2.6.0"
  }
 },
 "nbformat": 4,
 "nbformat_minor": 5
}
