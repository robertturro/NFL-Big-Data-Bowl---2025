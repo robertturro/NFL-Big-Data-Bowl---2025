{
 "cells": [
  {
   "cell_type": "code",
   "execution_count": 1,
   "id": "c7a30673",
   "metadata": {
    "_cell_guid": "b1076dfc-b9ad-4769-8c92-a6c4dae69d19",
    "_uuid": "8f2839f25d086af736a60e9eeb907d3b93b6e0e5",
    "execution": {
     "iopub.execute_input": "2025-01-02T20:46:45.558762Z",
     "iopub.status.busy": "2025-01-02T20:46:45.558094Z",
     "iopub.status.idle": "2025-01-02T20:46:46.561528Z",
     "shell.execute_reply": "2025-01-02T20:46:46.560193Z"
    },
    "papermill": {
     "duration": 1.014173,
     "end_time": "2025-01-02T20:46:46.564465",
     "exception": false,
     "start_time": "2025-01-02T20:46:45.550292",
     "status": "completed"
    },
    "tags": []
   },
   "outputs": [],
   "source": [
    "import pandas as pd \n",
    "import numpy as np\n",
    "from tqdm import tqdm\n",
    "import matplotlib.pyplot as plt\n",
    "import math"
   ]
  },
  {
   "cell_type": "code",
   "execution_count": 2,
   "id": "bdc38092",
   "metadata": {
    "execution": {
     "iopub.execute_input": "2025-01-02T20:46:46.574544Z",
     "iopub.status.busy": "2025-01-02T20:46:46.573920Z",
     "iopub.status.idle": "2025-01-02T20:50:39.451065Z",
     "shell.execute_reply": "2025-01-02T20:50:39.448882Z"
    },
    "papermill": {
     "duration": 232.888327,
     "end_time": "2025-01-02T20:50:39.457038",
     "exception": false,
     "start_time": "2025-01-02T20:46:46.568711",
     "status": "completed"
    },
    "tags": []
   },
   "outputs": [],
   "source": [
    "# Reading in all competiton data \n",
    "\n",
    "games = pd.read_csv(\"/kaggle/input/nfl-big-data-bowl-2025/games.csv\")\n",
    "player_play = pd.read_csv(\"/kaggle/input/nfl-big-data-bowl-2025/player_play.csv\")\n",
    "players = pd.read_csv(\"/kaggle/input/nfl-big-data-bowl-2025/players.csv\")\n",
    "plays = pd.read_csv(\"/kaggle/input/nfl-big-data-bowl-2025/plays.csv\")\n",
    "\n",
    "# Tracking data\n",
    "tracking_w1 = pd.read_csv(\"/kaggle/input/nfl-big-data-bowl-2025/tracking_week_1.csv\")\n",
    "tracking_w2 = pd.read_csv(\"/kaggle/input/nfl-big-data-bowl-2025/tracking_week_2.csv\")\n",
    "tracking_w3 = pd.read_csv(\"/kaggle/input/nfl-big-data-bowl-2025/tracking_week_3.csv\")\n",
    "tracking_w4 = pd.read_csv(\"/kaggle/input/nfl-big-data-bowl-2025/tracking_week_4.csv\")\n",
    "tracking_w5 = pd.read_csv(\"/kaggle/input/nfl-big-data-bowl-2025/tracking_week_5.csv\")\n",
    "tracking_w6 = pd.read_csv(\"/kaggle/input/nfl-big-data-bowl-2025/tracking_week_6.csv\")\n",
    "tracking_w7 = pd.read_csv(\"/kaggle/input/nfl-big-data-bowl-2025/tracking_week_7.csv\")\n",
    "tracking_w8 = pd.read_csv(\"/kaggle/input/nfl-big-data-bowl-2025/tracking_week_8.csv\")\n",
    "tracking_w9 = pd.read_csv(\"/kaggle/input/nfl-big-data-bowl-2025/tracking_week_9.csv\")"
   ]
  },
  {
   "cell_type": "code",
   "execution_count": 3,
   "id": "ed3a6c02",
   "metadata": {
    "execution": {
     "iopub.execute_input": "2025-01-02T20:50:39.470513Z",
     "iopub.status.busy": "2025-01-02T20:50:39.470101Z",
     "iopub.status.idle": "2025-01-02T20:50:39.479417Z",
     "shell.execute_reply": "2025-01-02T20:50:39.478092Z"
    },
    "papermill": {
     "duration": 0.018298,
     "end_time": "2025-01-02T20:50:39.482006",
     "exception": false,
     "start_time": "2025-01-02T20:50:39.463708",
     "status": "completed"
    },
    "tags": []
   },
   "outputs": [],
   "source": [
    "# This function takes in a dataframe and returns that dataframe filtered for plays where there is a shift or motion\n",
    "def filter_dataset(data, player_play):\n",
    "    m1 = player_play['shiftSinceLineset'] == 1\n",
    "    m2 = player_play['motionSinceLineset'] == 1\n",
    "    m3 = player_play['inMotionAtBallSnap'] == 1\n",
    "    \n",
    "    filter_data = player_play.loc[m1 | m2 | m3].reset_index(drop=True)\n",
    "    filter_codes = [str(filter_data['gameId'][i]) + \"-\" + str(filter_data['playId'][i]) for i in range(len(filter_data))]\n",
    "\n",
    "    data['play_code'] = [str(data['gameId'][i]) + \"-\" + str(data['playId'][i]) for i in range(len(data))]\n",
    "    final = data[data['play_code'].isin(filter_codes)].reset_index(drop=True)\n",
    "  \n",
    "\n",
    "    return final"
   ]
  },
  {
   "cell_type": "code",
   "execution_count": 4,
   "id": "c007523e",
   "metadata": {
    "execution": {
     "iopub.execute_input": "2025-01-02T20:50:39.491863Z",
     "iopub.status.busy": "2025-01-02T20:50:39.491371Z",
     "iopub.status.idle": "2025-01-02T20:50:39.502039Z",
     "shell.execute_reply": "2025-01-02T20:50:39.500512Z"
    },
    "papermill": {
     "duration": 0.018596,
     "end_time": "2025-01-02T20:50:39.504703",
     "exception": false,
     "start_time": "2025-01-02T20:50:39.486107",
     "status": "completed"
    },
    "tags": []
   },
   "outputs": [],
   "source": [
    "# A function that can visualize offense alignment \n",
    "\n",
    "def generate_graph(data, playId, gameId, players):\n",
    "    t1 = data['gameId'] == gameId\n",
    "    t2 = data['playId'] == playId\n",
    "    t3 = data['frameType'] == 'BEFORE_SNAP'\n",
    "\n",
    "    tmp = data.loc[t1 & t2 & t3] #[['displayName','x', 'y','nflId']]\n",
    "    tmp2 = tmp.merge(players, left_on=['nflId'], right_on=['nflId'])\n",
    "    final = tmp2.groupby(['displayName_x','position']).agg({'x':lambda x: list(x), 'y':lambda y: list(y)}).reset_index()\n",
    "    final = final[final['position'].isin(['WR', 'RB', 'TE', 'T', 'G', 'QB', 'C', 'FB'])].reset_index(drop=True)\n",
    "\n",
    "    for i in range(len(final)):\n",
    "        label = final['position'][i] + \"_\" + str(i)\n",
    "        plt.plot(final['x'][i], final['y'][i], label=label)\n",
    "\n",
    "    plt.xlim(0,120)\n",
    "    plt.ylim(0,53.3)\n",
    "    plt.legend()\n",
    "    plt.show()"
   ]
  },
  {
   "cell_type": "code",
   "execution_count": 5,
   "id": "55fda021",
   "metadata": {
    "execution": {
     "iopub.execute_input": "2025-01-02T20:50:39.514000Z",
     "iopub.status.busy": "2025-01-02T20:50:39.513484Z",
     "iopub.status.idle": "2025-01-02T20:50:39.520978Z",
     "shell.execute_reply": "2025-01-02T20:50:39.519721Z"
    },
    "papermill": {
     "duration": 0.015189,
     "end_time": "2025-01-02T20:50:39.523637",
     "exception": false,
     "start_time": "2025-01-02T20:50:39.508448",
     "status": "completed"
    },
    "tags": []
   },
   "outputs": [],
   "source": [
    "# This function add a feature that determines the y-coordinate of a player when the line is set\n",
    "def add_features(data):\n",
    "    line_set_y  = []\n",
    "    \n",
    "    for i in range(len(data)):\n",
    "        try:\n",
    "            ls = data[\"event\"][i].index(\"line_set\")\n",
    "            if ls < 0:\n",
    "                ls = 0\n",
    "            \n",
    "            line_set_y.append(data['y'][i][ls])\n",
    "        except:\n",
    "            line_set_y.append(0)\n",
    "\n",
    "    data['line_set_y'] = line_set_y \n",
    "\n",
    "    return data"
   ]
  },
  {
   "cell_type": "code",
   "execution_count": 6,
   "id": "f78fa3bd",
   "metadata": {
    "execution": {
     "iopub.execute_input": "2025-01-02T20:50:39.534185Z",
     "iopub.status.busy": "2025-01-02T20:50:39.533754Z",
     "iopub.status.idle": "2025-01-02T20:50:39.541615Z",
     "shell.execute_reply": "2025-01-02T20:50:39.540402Z"
    },
    "papermill": {
     "duration": 0.01589,
     "end_time": "2025-01-02T20:50:39.544159",
     "exception": false,
     "start_time": "2025-01-02T20:50:39.528269",
     "status": "completed"
    },
    "tags": []
   },
   "outputs": [],
   "source": [
    "# This function determines the reciever alignment when the line is set, before any motions and before the ball is snapped\n",
    "def get_reciever_alignment(data):\n",
    "    linemen = data[data['position'].isin([\"C\",\"G\",\"T\"])]\n",
    "    skills = data[~data['position'].isin([\"C\", \"G\", \"T\"])].reset_index(drop=True)\n",
    "    mx = np.max(linemen['line_set_y'])\n",
    "    mi = np.min(linemen['line_set_y'])\n",
    "\n",
    "    below, above = 0, 0\n",
    "    for i in range(len(skills)):\n",
    "        if skills['line_set_y'][i] < mi:\n",
    "            below += 1\n",
    "        elif skills['line_set_y'][i] > mx:\n",
    "            above += 1\n",
    "\n",
    "\n",
    "    return str(below) + \"x\" + str(above)"
   ]
  },
  {
   "cell_type": "code",
   "execution_count": 7,
   "id": "336095f5",
   "metadata": {
    "execution": {
     "iopub.execute_input": "2025-01-02T20:50:39.553558Z",
     "iopub.status.busy": "2025-01-02T20:50:39.553141Z",
     "iopub.status.idle": "2025-01-02T20:50:39.566180Z",
     "shell.execute_reply": "2025-01-02T20:50:39.564799Z"
    },
    "papermill": {
     "duration": 0.020688,
     "end_time": "2025-01-02T20:50:39.568738",
     "exception": false,
     "start_time": "2025-01-02T20:50:39.548050",
     "status": "completed"
    },
    "tags": []
   },
   "outputs": [],
   "source": [
    "# This function uses the helper functions above to create the final dataset that can be used in the analysis notebook.\n",
    "def convert_data(df, plays):\n",
    "    final_df = pd.DataFrame()\n",
    "    game_id, play_id, ps_reciever_align = [],[],[]\n",
    "    \n",
    "    t = df[df['frameType']=='BEFORE_SNAP']\n",
    "    track = t.groupby(['gameId', 'playId', 'nflId'])[['frameId','frameType','playDirection','x','y','s','a','dis','o','dir','event']].agg(lambda x: list(x)).reset_index()\n",
    "    track = track.merge(players, left_on=['nflId'], right_on=['nflId'])\n",
    "    track = track.merge(player_play, left_on=['nflId','gameId','playId'], right_on=['nflId','gameId','playId'])\n",
    "    \n",
    "    for i in tqdm(range(len(plays))):        \n",
    "        m1 = track['gameId'] == plays['gameId'][i]\n",
    "        m2 = track['playId'] == plays['playId'][i]\n",
    "\n",
    "        data = track.loc[m1 & m2].reset_index(drop=True)\n",
    "\n",
    "        if len(data) == 0:\n",
    "            continue\n",
    "\n",
    "        else:\n",
    "            offense = ['WR', 'RB', 'TE', 'FB','T','G','QB', 'C']\n",
    "            defense = ['CB', 'OLB', 'DE', 'DT', 'ILB', 'FS', 'SS', 'NT', 'MLB', 'DB', 'LB']\n",
    "            side = []\n",
    "            \n",
    "            for j in range(len(data['position'])):\n",
    "                if data['position'][j] in offense:\n",
    "                    side.append('O')\n",
    "                elif data['position'][j] in defense:\n",
    "                    side.append('D')\n",
    "                else:\n",
    "                    side.append('unknown')\n",
    "            \n",
    "            data['side'] = side\n",
    "            data2 = data[data['side'] == 'O'].reset_index(drop=True)\n",
    "            data3 = add_features(data2)\n",
    "            data4 = data3[['line_set_y','position']]\n",
    "            ps_reciever_align.append(get_reciever_alignment(data4))\n",
    "            game_id.append(plays['gameId'][i])\n",
    "            play_id.append(plays['playId'][i])\n",
    "\n",
    "    \n",
    "    final_df['game_id'] = game_id \n",
    "    final_df['play_id'] = play_id \n",
    "    final_df['initial_alignment'] = ps_reciever_align\n",
    "\n",
    "    \n",
    "    return final_df"
   ]
  },
  {
   "cell_type": "code",
   "execution_count": 8,
   "id": "6241b318",
   "metadata": {
    "execution": {
     "iopub.execute_input": "2025-01-02T20:50:39.578314Z",
     "iopub.status.busy": "2025-01-02T20:50:39.577884Z",
     "iopub.status.idle": "2025-01-02T21:02:40.910825Z",
     "shell.execute_reply": "2025-01-02T21:02:40.909214Z"
    },
    "papermill": {
     "duration": 721.341303,
     "end_time": "2025-01-02T21:02:40.914039",
     "exception": false,
     "start_time": "2025-01-02T20:50:39.572736",
     "status": "completed"
    },
    "tags": []
   },
   "outputs": [],
   "source": [
    "tracking_w1 = filter_dataset(tracking_w1, player_play)\n",
    "tracking_w2 = filter_dataset(tracking_w2, player_play)\n",
    "tracking_w3 = filter_dataset(tracking_w3, player_play)\n",
    "tracking_w4 = filter_dataset(tracking_w4, player_play)\n",
    "tracking_w5 = filter_dataset(tracking_w5, player_play)\n",
    "tracking_w6 = filter_dataset(tracking_w6, player_play)\n",
    "tracking_w7 = filter_dataset(tracking_w7, player_play)\n",
    "tracking_w8 = filter_dataset(tracking_w8, player_play)\n",
    "tracking_w9 = filter_dataset(tracking_w9, player_play)"
   ]
  },
  {
   "cell_type": "code",
   "execution_count": 9,
   "id": "c3a058b9",
   "metadata": {
    "execution": {
     "iopub.execute_input": "2025-01-02T21:02:40.923424Z",
     "iopub.status.busy": "2025-01-02T21:02:40.923047Z",
     "iopub.status.idle": "2025-01-02T21:06:59.352617Z",
     "shell.execute_reply": "2025-01-02T21:06:59.349786Z"
    },
    "papermill": {
     "duration": 258.438349,
     "end_time": "2025-01-02T21:06:59.356540",
     "exception": false,
     "start_time": "2025-01-02T21:02:40.918191",
     "status": "completed"
    },
    "tags": []
   },
   "outputs": [
    {
     "name": "stderr",
     "output_type": "stream",
     "text": [
      "100%|██████████| 16124/16124 [00:19<00:00, 827.65it/s]\n",
      "100%|██████████| 16124/16124 [00:18<00:00, 867.98it/s]\n",
      "100%|██████████| 16124/16124 [00:22<00:00, 728.60it/s]\n",
      "100%|██████████| 16124/16124 [00:18<00:00, 851.51it/s]\n",
      "100%|██████████| 16124/16124 [00:18<00:00, 873.85it/s]\n",
      "100%|██████████| 16124/16124 [00:18<00:00, 869.34it/s]\n",
      "100%|██████████| 16124/16124 [00:18<00:00, 891.48it/s]\n",
      "100%|██████████| 16124/16124 [00:18<00:00, 870.88it/s]\n",
      "100%|██████████| 16124/16124 [00:17<00:00, 908.50it/s]\n"
     ]
    }
   ],
   "source": [
    "w1 = convert_data(tracking_w1, plays)\n",
    "w2 = convert_data(tracking_w2, plays)\n",
    "w3 = convert_data(tracking_w3, plays)\n",
    "w4 = convert_data(tracking_w4, plays)\n",
    "w5 = convert_data(tracking_w5, plays)\n",
    "w6 = convert_data(tracking_w6, plays)\n",
    "w7 = convert_data(tracking_w7, plays)\n",
    "w8 = convert_data(tracking_w8, plays)\n",
    "w9 = convert_data(tracking_w9, plays)"
   ]
  },
  {
   "cell_type": "code",
   "execution_count": 10,
   "id": "fd775679",
   "metadata": {
    "execution": {
     "iopub.execute_input": "2025-01-02T21:06:59.551077Z",
     "iopub.status.busy": "2025-01-02T21:06:59.550597Z",
     "iopub.status.idle": "2025-01-02T21:06:59.558422Z",
     "shell.execute_reply": "2025-01-02T21:06:59.557327Z"
    },
    "papermill": {
     "duration": 0.105631,
     "end_time": "2025-01-02T21:06:59.560885",
     "exception": false,
     "start_time": "2025-01-02T21:06:59.455254",
     "status": "completed"
    },
    "tags": []
   },
   "outputs": [],
   "source": [
    "all_tracking = pd.concat([w1,w2,w3,w4,w5,w6,w7,w8,w9])"
   ]
  },
  {
   "cell_type": "code",
   "execution_count": 11,
   "id": "c390aeee",
   "metadata": {
    "execution": {
     "iopub.execute_input": "2025-01-02T21:06:59.905463Z",
     "iopub.status.busy": "2025-01-02T21:06:59.905047Z",
     "iopub.status.idle": "2025-01-02T21:06:59.934862Z",
     "shell.execute_reply": "2025-01-02T21:06:59.933559Z"
    },
    "papermill": {
     "duration": 0.282595,
     "end_time": "2025-01-02T21:06:59.937997",
     "exception": false,
     "start_time": "2025-01-02T21:06:59.655402",
     "status": "completed"
    },
    "tags": []
   },
   "outputs": [],
   "source": [
    "play_data = pd.merge(left=plays, right=all_tracking, how='left', left_on=['gameId', 'playId'], right_on=['game_id', 'play_id'])"
   ]
  },
  {
   "cell_type": "code",
   "execution_count": 12,
   "id": "563cc6ca",
   "metadata": {
    "execution": {
     "iopub.execute_input": "2025-01-02T21:07:00.112341Z",
     "iopub.status.busy": "2025-01-02T21:07:00.111973Z",
     "iopub.status.idle": "2025-01-02T21:07:00.167453Z",
     "shell.execute_reply": "2025-01-02T21:07:00.166055Z"
    },
    "papermill": {
     "duration": 0.145932,
     "end_time": "2025-01-02T21:07:00.170453",
     "exception": false,
     "start_time": "2025-01-02T21:07:00.024521",
     "status": "completed"
    },
    "tags": []
   },
   "outputs": [],
   "source": [
    "# A shift from 1x3 to 3x1 was also identified but was not used for the analysis\n",
    "m1 = play_data['initial_alignment'] == \"1x3\"\n",
    "m2 = play_data['receiverAlignment'] == \"3x1\"\n",
    "m3 = play_data['initial_alignment'] == \"3x1\"\n",
    "m4 = play_data['receiverAlignment'] == \"1x3\"\n",
    "motion1 = play_data.loc[(m1 & m2) | (m3 & m4)].reset_index(drop=True)\n",
    "\n",
    "m5 = play_data['initial_alignment'] == \"1x3\"\n",
    "m6 = play_data['receiverAlignment'] == \"1x3\"\n",
    "m7 = play_data['initial_alignment'] == \"3x1\"\n",
    "m8 = play_data['receiverAlignment'] == \"3x1\"\n",
    "motion1_control = play_data.loc[(m5 & m6) | (m7 & m8)].reset_index(drop=True)\n",
    "\n",
    "# A shift from 1x3 or 3x1 to 2x2 is identified and stored in a dataframe to use for further analysis\n",
    "m9 = play_data['initial_alignment'] == \"1x3\"\n",
    "m10 = play_data['receiverAlignment'] == \"2x2\"\n",
    "m11 = play_data['initial_alignment'] == \"3x1\"\n",
    "m12 = play_data['receiverAlignment'] == \"2x2\"\n",
    "motion2 = play_data.loc[(m9 & m10) | (m11 & m12)].reset_index(drop=True)\n",
    "\n",
    "m13 = play_data['initial_alignment'] == \"2x2\"\n",
    "m14 = play_data['receiverAlignment'] == \"2x2\"\n",
    "motion2_control = play_data.loc[~((m9 & m10) | (m11 & m12))].reset_index(drop=True)\n",
    "motion2_control2 = play_data.loc[m13 & m14]"
   ]
  },
  {
   "cell_type": "code",
   "execution_count": 13,
   "id": "7948983a",
   "metadata": {
    "execution": {
     "iopub.execute_input": "2025-01-02T21:07:00.361977Z",
     "iopub.status.busy": "2025-01-02T21:07:00.360726Z",
     "iopub.status.idle": "2025-01-02T21:07:01.036941Z",
     "shell.execute_reply": "2025-01-02T21:07:01.035612Z"
    },
    "papermill": {
     "duration": 0.77748,
     "end_time": "2025-01-02T21:07:01.039928",
     "exception": false,
     "start_time": "2025-01-02T21:07:00.262448",
     "status": "completed"
    },
    "tags": []
   },
   "outputs": [],
   "source": [
    "# The datasets are stored in csv files to be used in the \"BDB25-Analysis\" notebook\n",
    "motion1.to_csv(\"motion1.csv\", index=False)\n",
    "motion1_control.to_csv(\"motion1_control.csv\", index=False)\n",
    "motion2.to_csv(\"motion2.csv\", index=False)\n",
    "motion2_control.to_csv(\"motion2_control.csv\", index=False)\n",
    "motion2_control2.to_csv(\"motion2_control2.csv\")"
   ]
  }
 ],
 "metadata": {
  "kaggle": {
   "accelerator": "none",
   "dataSources": [
    {
     "databundleVersionId": 9816926,
     "sourceId": 84175,
     "sourceType": "competition"
    },
    {
     "datasetId": 6415020,
     "sourceId": 10358453,
     "sourceType": "datasetVersion"
    }
   ],
   "dockerImageVersionId": 30786,
   "isGpuEnabled": false,
   "isInternetEnabled": true,
   "language": "python",
   "sourceType": "notebook"
  },
  "kernelspec": {
   "display_name": "Python 3",
   "language": "python",
   "name": "python3"
  },
  "language_info": {
   "codemirror_mode": {
    "name": "ipython",
    "version": 3
   },
   "file_extension": ".py",
   "mimetype": "text/x-python",
   "name": "python",
   "nbconvert_exporter": "python",
   "pygments_lexer": "ipython3",
   "version": "3.10.14"
  },
  "papermill": {
   "default_parameters": {},
   "duration": 1222.016664,
   "end_time": "2025-01-02T21:07:03.755598",
   "environment_variables": {},
   "exception": null,
   "input_path": "__notebook__.ipynb",
   "output_path": "__notebook__.ipynb",
   "parameters": {},
   "start_time": "2025-01-02T20:46:41.738934",
   "version": "2.6.0"
  }
 },
 "nbformat": 4,
 "nbformat_minor": 5
}
